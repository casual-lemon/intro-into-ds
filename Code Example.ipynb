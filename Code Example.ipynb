{
 "cells": [
  {
   "cell_type": "markdown",
   "id": "54470045",
   "metadata": {},
   "source": [
    "# Code Example"
   ]
  },
  {
   "cell_type": "code",
   "execution_count": 2,
   "id": "23a0b788",
   "metadata": {},
   "outputs": [],
   "source": [
    "import pandas as pd\n",
    "import numpy as np\n"
   ]
  },
  {
   "cell_type": "code",
   "execution_count": 3,
   "outputs": [
    {
     "data": {
      "text/plain": "   # Country (or dependency) Population (2022) Yearly change  Net change  \\\n0  1                   China     1,439,323,776         0.39%   5,540,090   \n1  2                   India     1,380,004,385         0.99%  13,586,631   \n2  3           United States       331,002,651         0.59%   1,937,734   \n3  4               Indonesia       273,523,615         1.07%   2,898,047   \n4  5                Pakistan       220,892,340         2.00%   4,327,022   \n\n  Density (P/Km²) Land Area (Km²) Migrants (net) Fert. Rate Med.Age  \\\n0             153       9,388,211       -348,399        1.7      38   \n1             464       2,973,190       -532,687        2.2      28   \n2              36       9,147,420        954,806        1.8      38   \n3             151       1,811,570        -98,955        2.3      30   \n4             287         770,880       -233,379        3.6      23   \n\n  Urban Pop % World Share  \n0         61%      18.47%  \n1         35%      17.70%  \n2         83%       4.25%  \n3         56%       3.51%  \n4         35%       2.83%  ",
      "text/html": "<div>\n<style scoped>\n    .dataframe tbody tr th:only-of-type {\n        vertical-align: middle;\n    }\n\n    .dataframe tbody tr th {\n        vertical-align: top;\n    }\n\n    .dataframe thead th {\n        text-align: right;\n    }\n</style>\n<table border=\"1\" class=\"dataframe\">\n  <thead>\n    <tr style=\"text-align: right;\">\n      <th></th>\n      <th>#</th>\n      <th>Country (or dependency)</th>\n      <th>Population (2022)</th>\n      <th>Yearly change</th>\n      <th>Net change</th>\n      <th>Density (P/Km²)</th>\n      <th>Land Area (Km²)</th>\n      <th>Migrants (net)</th>\n      <th>Fert. Rate</th>\n      <th>Med.Age</th>\n      <th>Urban Pop %</th>\n      <th>World Share</th>\n    </tr>\n  </thead>\n  <tbody>\n    <tr>\n      <th>0</th>\n      <td>1</td>\n      <td>China</td>\n      <td>1,439,323,776</td>\n      <td>0.39%</td>\n      <td>5,540,090</td>\n      <td>153</td>\n      <td>9,388,211</td>\n      <td>-348,399</td>\n      <td>1.7</td>\n      <td>38</td>\n      <td>61%</td>\n      <td>18.47%</td>\n    </tr>\n    <tr>\n      <th>1</th>\n      <td>2</td>\n      <td>India</td>\n      <td>1,380,004,385</td>\n      <td>0.99%</td>\n      <td>13,586,631</td>\n      <td>464</td>\n      <td>2,973,190</td>\n      <td>-532,687</td>\n      <td>2.2</td>\n      <td>28</td>\n      <td>35%</td>\n      <td>17.70%</td>\n    </tr>\n    <tr>\n      <th>2</th>\n      <td>3</td>\n      <td>United States</td>\n      <td>331,002,651</td>\n      <td>0.59%</td>\n      <td>1,937,734</td>\n      <td>36</td>\n      <td>9,147,420</td>\n      <td>954,806</td>\n      <td>1.8</td>\n      <td>38</td>\n      <td>83%</td>\n      <td>4.25%</td>\n    </tr>\n    <tr>\n      <th>3</th>\n      <td>4</td>\n      <td>Indonesia</td>\n      <td>273,523,615</td>\n      <td>1.07%</td>\n      <td>2,898,047</td>\n      <td>151</td>\n      <td>1,811,570</td>\n      <td>-98,955</td>\n      <td>2.3</td>\n      <td>30</td>\n      <td>56%</td>\n      <td>3.51%</td>\n    </tr>\n    <tr>\n      <th>4</th>\n      <td>5</td>\n      <td>Pakistan</td>\n      <td>220,892,340</td>\n      <td>2.00%</td>\n      <td>4,327,022</td>\n      <td>287</td>\n      <td>770,880</td>\n      <td>-233,379</td>\n      <td>3.6</td>\n      <td>23</td>\n      <td>35%</td>\n      <td>2.83%</td>\n    </tr>\n  </tbody>\n</table>\n</div>"
     },
     "execution_count": 3,
     "metadata": {},
     "output_type": "execute_result"
    }
   ],
   "source": [
    "df = pd.read_csv('WorldPopulation2022.csv')\n",
    "df.head()"
   ],
   "metadata": {
    "collapsed": false
   }
  },
  {
   "cell_type": "code",
   "execution_count": 4,
   "outputs": [
    {
     "data": {
      "text/plain": "(235, 12)"
     },
     "execution_count": 4,
     "metadata": {},
     "output_type": "execute_result"
    }
   ],
   "source": [
    "df.shape"
   ],
   "metadata": {
    "collapsed": false
   }
  },
  {
   "cell_type": "markdown",
   "source": [
    "There are 235 rows and 12 columns (features)"
   ],
   "metadata": {
    "collapsed": false
   }
  },
  {
   "cell_type": "markdown",
   "source": [
    "## Exploratory Data Analysis"
   ],
   "metadata": {
    "collapsed": false
   }
  },
  {
   "cell_type": "code",
   "execution_count": 5,
   "outputs": [],
   "source": [
    "df = df.drop('#', axis=1)"
   ],
   "metadata": {
    "collapsed": false
   }
  },
  {
   "cell_type": "code",
   "execution_count": 7,
   "outputs": [
    {
     "data": {
      "text/plain": "  Country (or dependency) Population (2022) Yearly change  Net change  \\\n0                   China     1,439,323,776         0.39%   5,540,090   \n1                   India     1,380,004,385         0.99%  13,586,631   \n2           United States       331,002,651         0.59%   1,937,734   \n3               Indonesia       273,523,615         1.07%   2,898,047   \n4                Pakistan       220,892,340         2.00%   4,327,022   \n\n  Density (P/Km²) Land Area (Km²) Migrants (net) Fert. Rate Med.Age  \\\n0             153       9,388,211       -348,399        1.7      38   \n1             464       2,973,190       -532,687        2.2      28   \n2              36       9,147,420        954,806        1.8      38   \n3             151       1,811,570        -98,955        2.3      30   \n4             287         770,880       -233,379        3.6      23   \n\n  Urban Pop % World Share  \n0         61%      18.47%  \n1         35%      17.70%  \n2         83%       4.25%  \n3         56%       3.51%  \n4         35%       2.83%  ",
      "text/html": "<div>\n<style scoped>\n    .dataframe tbody tr th:only-of-type {\n        vertical-align: middle;\n    }\n\n    .dataframe tbody tr th {\n        vertical-align: top;\n    }\n\n    .dataframe thead th {\n        text-align: right;\n    }\n</style>\n<table border=\"1\" class=\"dataframe\">\n  <thead>\n    <tr style=\"text-align: right;\">\n      <th></th>\n      <th>Country (or dependency)</th>\n      <th>Population (2022)</th>\n      <th>Yearly change</th>\n      <th>Net change</th>\n      <th>Density (P/Km²)</th>\n      <th>Land Area (Km²)</th>\n      <th>Migrants (net)</th>\n      <th>Fert. Rate</th>\n      <th>Med.Age</th>\n      <th>Urban Pop %</th>\n      <th>World Share</th>\n    </tr>\n  </thead>\n  <tbody>\n    <tr>\n      <th>0</th>\n      <td>China</td>\n      <td>1,439,323,776</td>\n      <td>0.39%</td>\n      <td>5,540,090</td>\n      <td>153</td>\n      <td>9,388,211</td>\n      <td>-348,399</td>\n      <td>1.7</td>\n      <td>38</td>\n      <td>61%</td>\n      <td>18.47%</td>\n    </tr>\n    <tr>\n      <th>1</th>\n      <td>India</td>\n      <td>1,380,004,385</td>\n      <td>0.99%</td>\n      <td>13,586,631</td>\n      <td>464</td>\n      <td>2,973,190</td>\n      <td>-532,687</td>\n      <td>2.2</td>\n      <td>28</td>\n      <td>35%</td>\n      <td>17.70%</td>\n    </tr>\n    <tr>\n      <th>2</th>\n      <td>United States</td>\n      <td>331,002,651</td>\n      <td>0.59%</td>\n      <td>1,937,734</td>\n      <td>36</td>\n      <td>9,147,420</td>\n      <td>954,806</td>\n      <td>1.8</td>\n      <td>38</td>\n      <td>83%</td>\n      <td>4.25%</td>\n    </tr>\n    <tr>\n      <th>3</th>\n      <td>Indonesia</td>\n      <td>273,523,615</td>\n      <td>1.07%</td>\n      <td>2,898,047</td>\n      <td>151</td>\n      <td>1,811,570</td>\n      <td>-98,955</td>\n      <td>2.3</td>\n      <td>30</td>\n      <td>56%</td>\n      <td>3.51%</td>\n    </tr>\n    <tr>\n      <th>4</th>\n      <td>Pakistan</td>\n      <td>220,892,340</td>\n      <td>2.00%</td>\n      <td>4,327,022</td>\n      <td>287</td>\n      <td>770,880</td>\n      <td>-233,379</td>\n      <td>3.6</td>\n      <td>23</td>\n      <td>35%</td>\n      <td>2.83%</td>\n    </tr>\n  </tbody>\n</table>\n</div>"
     },
     "execution_count": 7,
     "metadata": {},
     "output_type": "execute_result"
    }
   ],
   "source": [
    "df.head()"
   ],
   "metadata": {
    "collapsed": false
   }
  },
  {
   "cell_type": "code",
   "execution_count": 9,
   "outputs": [
    {
     "data": {
      "text/plain": "         Country     Population Yearly change  Net change Density (P/Km²)  \\\n0          China  1,439,323,776         0.39%   5,540,090             153   \n1          India  1,380,004,385         0.99%  13,586,631             464   \n2  United States    331,002,651         0.59%   1,937,734              36   \n3      Indonesia    273,523,615         1.07%   2,898,047             151   \n4       Pakistan    220,892,340         2.00%   4,327,022             287   \n\n  Land Area (Km²)  Migrants Fertility Rate MedianAge Urban Pop % World Share  \n0       9,388,211  -348,399            1.7        38         61%      18.47%  \n1       2,973,190  -532,687            2.2        28         35%      17.70%  \n2       9,147,420   954,806            1.8        38         83%       4.25%  \n3       1,811,570   -98,955            2.3        30         56%       3.51%  \n4         770,880  -233,379            3.6        23         35%       2.83%  ",
      "text/html": "<div>\n<style scoped>\n    .dataframe tbody tr th:only-of-type {\n        vertical-align: middle;\n    }\n\n    .dataframe tbody tr th {\n        vertical-align: top;\n    }\n\n    .dataframe thead th {\n        text-align: right;\n    }\n</style>\n<table border=\"1\" class=\"dataframe\">\n  <thead>\n    <tr style=\"text-align: right;\">\n      <th></th>\n      <th>Country</th>\n      <th>Population</th>\n      <th>Yearly change</th>\n      <th>Net change</th>\n      <th>Density (P/Km²)</th>\n      <th>Land Area (Km²)</th>\n      <th>Migrants</th>\n      <th>Fertility Rate</th>\n      <th>MedianAge</th>\n      <th>Urban Pop %</th>\n      <th>World Share</th>\n    </tr>\n  </thead>\n  <tbody>\n    <tr>\n      <th>0</th>\n      <td>China</td>\n      <td>1,439,323,776</td>\n      <td>0.39%</td>\n      <td>5,540,090</td>\n      <td>153</td>\n      <td>9,388,211</td>\n      <td>-348,399</td>\n      <td>1.7</td>\n      <td>38</td>\n      <td>61%</td>\n      <td>18.47%</td>\n    </tr>\n    <tr>\n      <th>1</th>\n      <td>India</td>\n      <td>1,380,004,385</td>\n      <td>0.99%</td>\n      <td>13,586,631</td>\n      <td>464</td>\n      <td>2,973,190</td>\n      <td>-532,687</td>\n      <td>2.2</td>\n      <td>28</td>\n      <td>35%</td>\n      <td>17.70%</td>\n    </tr>\n    <tr>\n      <th>2</th>\n      <td>United States</td>\n      <td>331,002,651</td>\n      <td>0.59%</td>\n      <td>1,937,734</td>\n      <td>36</td>\n      <td>9,147,420</td>\n      <td>954,806</td>\n      <td>1.8</td>\n      <td>38</td>\n      <td>83%</td>\n      <td>4.25%</td>\n    </tr>\n    <tr>\n      <th>3</th>\n      <td>Indonesia</td>\n      <td>273,523,615</td>\n      <td>1.07%</td>\n      <td>2,898,047</td>\n      <td>151</td>\n      <td>1,811,570</td>\n      <td>-98,955</td>\n      <td>2.3</td>\n      <td>30</td>\n      <td>56%</td>\n      <td>3.51%</td>\n    </tr>\n    <tr>\n      <th>4</th>\n      <td>Pakistan</td>\n      <td>220,892,340</td>\n      <td>2.00%</td>\n      <td>4,327,022</td>\n      <td>287</td>\n      <td>770,880</td>\n      <td>-233,379</td>\n      <td>3.6</td>\n      <td>23</td>\n      <td>35%</td>\n      <td>2.83%</td>\n    </tr>\n  </tbody>\n</table>\n</div>"
     },
     "execution_count": 9,
     "metadata": {},
     "output_type": "execute_result"
    }
   ],
   "source": [
    "df = df.rename(columns={'Country (or dependency)':'Country', 'Population (2022)':'Population', 'Med.Age': 'Median Age', 'Fert. Rate':'Fertility Rate', 'Migrants (net)': 'Migrants'})\n",
    "df.head()"
   ],
   "metadata": {
    "collapsed": false
   }
  },
  {
   "cell_type": "code",
   "execution_count": 12,
   "outputs": [
    {
     "data": {
      "text/plain": "Country            object\nPopulation         object\nYearly change      object\nNet change         object\nDensity (P/Km²)    object\nLand Area (Km²)    object\nMigrants           object\nFertility Rate     object\nMedianAge          object\nUrban Pop %        object\nWorld Share        object\ndtype: object"
     },
     "execution_count": 12,
     "metadata": {},
     "output_type": "execute_result"
    }
   ],
   "source": [
    "df.dtypes"
   ],
   "metadata": {
    "collapsed": false
   }
  },
  {
   "cell_type": "markdown",
   "source": [
    "Not good, we need all these to be of type int (execpt for country name)"
   ],
   "metadata": {
    "collapsed": false
   }
  },
  {
   "cell_type": "code",
   "execution_count": 29,
   "outputs": [
    {
     "ename": "ValueError",
     "evalue": "could not convert string to float: '1,439,323,776'",
     "output_type": "error",
     "traceback": [
      "\u001B[0;31m---------------------------------------------------------------------------\u001B[0m",
      "\u001B[0;31mValueError\u001B[0m                                Traceback (most recent call last)",
      "Cell \u001B[0;32mIn [29], line 1\u001B[0m\n\u001B[0;32m----> 1\u001B[0m df\u001B[38;5;241m.\u001B[39mloc[:,\u001B[38;5;124m'\u001B[39m\u001B[38;5;124mPopulation\u001B[39m\u001B[38;5;124m'\u001B[39m:] \u001B[38;5;241m=\u001B[39m \u001B[43mdf\u001B[49m\u001B[38;5;241;43m.\u001B[39;49m\u001B[43mloc\u001B[49m\u001B[43m[\u001B[49m\u001B[43m:\u001B[49m\u001B[43m,\u001B[49m\u001B[38;5;124;43m'\u001B[39;49m\u001B[38;5;124;43mPopulation\u001B[39;49m\u001B[38;5;124;43m'\u001B[39;49m\u001B[43m:\u001B[49m\u001B[43m]\u001B[49m\u001B[38;5;241;43m.\u001B[39;49m\u001B[43mastype\u001B[49m\u001B[43m(\u001B[49m\u001B[38;5;28;43mfloat\u001B[39;49m\u001B[43m)\u001B[49m\n",
      "File \u001B[0;32m~/.local/lib/python3.10/site-packages/pandas/core/generic.py:6240\u001B[0m, in \u001B[0;36mNDFrame.astype\u001B[0;34m(self, dtype, copy, errors)\u001B[0m\n\u001B[1;32m   6233\u001B[0m     results \u001B[38;5;241m=\u001B[39m [\n\u001B[1;32m   6234\u001B[0m         \u001B[38;5;28mself\u001B[39m\u001B[38;5;241m.\u001B[39miloc[:, i]\u001B[38;5;241m.\u001B[39mastype(dtype, copy\u001B[38;5;241m=\u001B[39mcopy)\n\u001B[1;32m   6235\u001B[0m         \u001B[38;5;28;01mfor\u001B[39;00m i \u001B[38;5;129;01min\u001B[39;00m \u001B[38;5;28mrange\u001B[39m(\u001B[38;5;28mlen\u001B[39m(\u001B[38;5;28mself\u001B[39m\u001B[38;5;241m.\u001B[39mcolumns))\n\u001B[1;32m   6236\u001B[0m     ]\n\u001B[1;32m   6238\u001B[0m \u001B[38;5;28;01melse\u001B[39;00m:\n\u001B[1;32m   6239\u001B[0m     \u001B[38;5;66;03m# else, only a single dtype is given\u001B[39;00m\n\u001B[0;32m-> 6240\u001B[0m     new_data \u001B[38;5;241m=\u001B[39m \u001B[38;5;28;43mself\u001B[39;49m\u001B[38;5;241;43m.\u001B[39;49m\u001B[43m_mgr\u001B[49m\u001B[38;5;241;43m.\u001B[39;49m\u001B[43mastype\u001B[49m\u001B[43m(\u001B[49m\u001B[43mdtype\u001B[49m\u001B[38;5;241;43m=\u001B[39;49m\u001B[43mdtype\u001B[49m\u001B[43m,\u001B[49m\u001B[43m \u001B[49m\u001B[43mcopy\u001B[49m\u001B[38;5;241;43m=\u001B[39;49m\u001B[43mcopy\u001B[49m\u001B[43m,\u001B[49m\u001B[43m \u001B[49m\u001B[43merrors\u001B[49m\u001B[38;5;241;43m=\u001B[39;49m\u001B[43merrors\u001B[49m\u001B[43m)\u001B[49m\n\u001B[1;32m   6241\u001B[0m     \u001B[38;5;28;01mreturn\u001B[39;00m \u001B[38;5;28mself\u001B[39m\u001B[38;5;241m.\u001B[39m_constructor(new_data)\u001B[38;5;241m.\u001B[39m__finalize__(\u001B[38;5;28mself\u001B[39m, method\u001B[38;5;241m=\u001B[39m\u001B[38;5;124m\"\u001B[39m\u001B[38;5;124mastype\u001B[39m\u001B[38;5;124m\"\u001B[39m)\n\u001B[1;32m   6243\u001B[0m \u001B[38;5;66;03m# GH 33113: handle empty frame or series\u001B[39;00m\n",
      "File \u001B[0;32m~/.local/lib/python3.10/site-packages/pandas/core/internals/managers.py:445\u001B[0m, in \u001B[0;36mBaseBlockManager.astype\u001B[0;34m(self, dtype, copy, errors)\u001B[0m\n\u001B[1;32m    444\u001B[0m \u001B[38;5;28;01mdef\u001B[39;00m \u001B[38;5;21mastype\u001B[39m(\u001B[38;5;28mself\u001B[39m: T, dtype, copy: \u001B[38;5;28mbool\u001B[39m \u001B[38;5;241m=\u001B[39m \u001B[38;5;28;01mFalse\u001B[39;00m, errors: \u001B[38;5;28mstr\u001B[39m \u001B[38;5;241m=\u001B[39m \u001B[38;5;124m\"\u001B[39m\u001B[38;5;124mraise\u001B[39m\u001B[38;5;124m\"\u001B[39m) \u001B[38;5;241m-\u001B[39m\u001B[38;5;241m>\u001B[39m T:\n\u001B[0;32m--> 445\u001B[0m     \u001B[38;5;28;01mreturn\u001B[39;00m \u001B[38;5;28;43mself\u001B[39;49m\u001B[38;5;241;43m.\u001B[39;49m\u001B[43mapply\u001B[49m\u001B[43m(\u001B[49m\u001B[38;5;124;43m\"\u001B[39;49m\u001B[38;5;124;43mastype\u001B[39;49m\u001B[38;5;124;43m\"\u001B[39;49m\u001B[43m,\u001B[49m\u001B[43m \u001B[49m\u001B[43mdtype\u001B[49m\u001B[38;5;241;43m=\u001B[39;49m\u001B[43mdtype\u001B[49m\u001B[43m,\u001B[49m\u001B[43m \u001B[49m\u001B[43mcopy\u001B[49m\u001B[38;5;241;43m=\u001B[39;49m\u001B[43mcopy\u001B[49m\u001B[43m,\u001B[49m\u001B[43m \u001B[49m\u001B[43merrors\u001B[49m\u001B[38;5;241;43m=\u001B[39;49m\u001B[43merrors\u001B[49m\u001B[43m)\u001B[49m\n",
      "File \u001B[0;32m~/.local/lib/python3.10/site-packages/pandas/core/internals/managers.py:347\u001B[0m, in \u001B[0;36mBaseBlockManager.apply\u001B[0;34m(self, f, align_keys, ignore_failures, **kwargs)\u001B[0m\n\u001B[1;32m    345\u001B[0m         applied \u001B[38;5;241m=\u001B[39m b\u001B[38;5;241m.\u001B[39mapply(f, \u001B[38;5;241m*\u001B[39m\u001B[38;5;241m*\u001B[39mkwargs)\n\u001B[1;32m    346\u001B[0m     \u001B[38;5;28;01melse\u001B[39;00m:\n\u001B[0;32m--> 347\u001B[0m         applied \u001B[38;5;241m=\u001B[39m \u001B[38;5;28;43mgetattr\u001B[39;49m\u001B[43m(\u001B[49m\u001B[43mb\u001B[49m\u001B[43m,\u001B[49m\u001B[43m \u001B[49m\u001B[43mf\u001B[49m\u001B[43m)\u001B[49m\u001B[43m(\u001B[49m\u001B[38;5;241;43m*\u001B[39;49m\u001B[38;5;241;43m*\u001B[39;49m\u001B[43mkwargs\u001B[49m\u001B[43m)\u001B[49m\n\u001B[1;32m    348\u001B[0m \u001B[38;5;28;01mexcept\u001B[39;00m (\u001B[38;5;167;01mTypeError\u001B[39;00m, \u001B[38;5;167;01mNotImplementedError\u001B[39;00m):\n\u001B[1;32m    349\u001B[0m     \u001B[38;5;28;01mif\u001B[39;00m \u001B[38;5;129;01mnot\u001B[39;00m ignore_failures:\n",
      "File \u001B[0;32m~/.local/lib/python3.10/site-packages/pandas/core/internals/blocks.py:526\u001B[0m, in \u001B[0;36mBlock.astype\u001B[0;34m(self, dtype, copy, errors)\u001B[0m\n\u001B[1;32m    508\u001B[0m \u001B[38;5;124;03m\"\"\"\u001B[39;00m\n\u001B[1;32m    509\u001B[0m \u001B[38;5;124;03mCoerce to the new dtype.\u001B[39;00m\n\u001B[1;32m    510\u001B[0m \n\u001B[0;32m   (...)\u001B[0m\n\u001B[1;32m    522\u001B[0m \u001B[38;5;124;03mBlock\u001B[39;00m\n\u001B[1;32m    523\u001B[0m \u001B[38;5;124;03m\"\"\"\u001B[39;00m\n\u001B[1;32m    524\u001B[0m values \u001B[38;5;241m=\u001B[39m \u001B[38;5;28mself\u001B[39m\u001B[38;5;241m.\u001B[39mvalues\n\u001B[0;32m--> 526\u001B[0m new_values \u001B[38;5;241m=\u001B[39m \u001B[43mastype_array_safe\u001B[49m\u001B[43m(\u001B[49m\u001B[43mvalues\u001B[49m\u001B[43m,\u001B[49m\u001B[43m \u001B[49m\u001B[43mdtype\u001B[49m\u001B[43m,\u001B[49m\u001B[43m \u001B[49m\u001B[43mcopy\u001B[49m\u001B[38;5;241;43m=\u001B[39;49m\u001B[43mcopy\u001B[49m\u001B[43m,\u001B[49m\u001B[43m \u001B[49m\u001B[43merrors\u001B[49m\u001B[38;5;241;43m=\u001B[39;49m\u001B[43merrors\u001B[49m\u001B[43m)\u001B[49m\n\u001B[1;32m    528\u001B[0m new_values \u001B[38;5;241m=\u001B[39m maybe_coerce_values(new_values)\n\u001B[1;32m    529\u001B[0m newb \u001B[38;5;241m=\u001B[39m \u001B[38;5;28mself\u001B[39m\u001B[38;5;241m.\u001B[39mmake_block(new_values)\n",
      "File \u001B[0;32m~/.local/lib/python3.10/site-packages/pandas/core/dtypes/astype.py:299\u001B[0m, in \u001B[0;36mastype_array_safe\u001B[0;34m(values, dtype, copy, errors)\u001B[0m\n\u001B[1;32m    296\u001B[0m     \u001B[38;5;28;01mreturn\u001B[39;00m values\u001B[38;5;241m.\u001B[39mcopy()\n\u001B[1;32m    298\u001B[0m \u001B[38;5;28;01mtry\u001B[39;00m:\n\u001B[0;32m--> 299\u001B[0m     new_values \u001B[38;5;241m=\u001B[39m \u001B[43mastype_array\u001B[49m\u001B[43m(\u001B[49m\u001B[43mvalues\u001B[49m\u001B[43m,\u001B[49m\u001B[43m \u001B[49m\u001B[43mdtype\u001B[49m\u001B[43m,\u001B[49m\u001B[43m \u001B[49m\u001B[43mcopy\u001B[49m\u001B[38;5;241;43m=\u001B[39;49m\u001B[43mcopy\u001B[49m\u001B[43m)\u001B[49m\n\u001B[1;32m    300\u001B[0m \u001B[38;5;28;01mexcept\u001B[39;00m (\u001B[38;5;167;01mValueError\u001B[39;00m, \u001B[38;5;167;01mTypeError\u001B[39;00m):\n\u001B[1;32m    301\u001B[0m     \u001B[38;5;66;03m# e.g. astype_nansafe can fail on object-dtype of strings\u001B[39;00m\n\u001B[1;32m    302\u001B[0m     \u001B[38;5;66;03m#  trying to convert to float\u001B[39;00m\n\u001B[1;32m    303\u001B[0m     \u001B[38;5;28;01mif\u001B[39;00m errors \u001B[38;5;241m==\u001B[39m \u001B[38;5;124m\"\u001B[39m\u001B[38;5;124mignore\u001B[39m\u001B[38;5;124m\"\u001B[39m:\n",
      "File \u001B[0;32m~/.local/lib/python3.10/site-packages/pandas/core/dtypes/astype.py:230\u001B[0m, in \u001B[0;36mastype_array\u001B[0;34m(values, dtype, copy)\u001B[0m\n\u001B[1;32m    227\u001B[0m     values \u001B[38;5;241m=\u001B[39m values\u001B[38;5;241m.\u001B[39mastype(dtype, copy\u001B[38;5;241m=\u001B[39mcopy)\n\u001B[1;32m    229\u001B[0m \u001B[38;5;28;01melse\u001B[39;00m:\n\u001B[0;32m--> 230\u001B[0m     values \u001B[38;5;241m=\u001B[39m \u001B[43mastype_nansafe\u001B[49m\u001B[43m(\u001B[49m\u001B[43mvalues\u001B[49m\u001B[43m,\u001B[49m\u001B[43m \u001B[49m\u001B[43mdtype\u001B[49m\u001B[43m,\u001B[49m\u001B[43m \u001B[49m\u001B[43mcopy\u001B[49m\u001B[38;5;241;43m=\u001B[39;49m\u001B[43mcopy\u001B[49m\u001B[43m)\u001B[49m\n\u001B[1;32m    232\u001B[0m \u001B[38;5;66;03m# in pandas we don't store numpy str dtypes, so convert to object\u001B[39;00m\n\u001B[1;32m    233\u001B[0m \u001B[38;5;28;01mif\u001B[39;00m \u001B[38;5;28misinstance\u001B[39m(dtype, np\u001B[38;5;241m.\u001B[39mdtype) \u001B[38;5;129;01mand\u001B[39;00m \u001B[38;5;28missubclass\u001B[39m(values\u001B[38;5;241m.\u001B[39mdtype\u001B[38;5;241m.\u001B[39mtype, \u001B[38;5;28mstr\u001B[39m):\n",
      "File \u001B[0;32m~/.local/lib/python3.10/site-packages/pandas/core/dtypes/astype.py:170\u001B[0m, in \u001B[0;36mastype_nansafe\u001B[0;34m(arr, dtype, copy, skipna)\u001B[0m\n\u001B[1;32m    166\u001B[0m     \u001B[38;5;28;01mraise\u001B[39;00m \u001B[38;5;167;01mValueError\u001B[39;00m(msg)\n\u001B[1;32m    168\u001B[0m \u001B[38;5;28;01mif\u001B[39;00m copy \u001B[38;5;129;01mor\u001B[39;00m is_object_dtype(arr\u001B[38;5;241m.\u001B[39mdtype) \u001B[38;5;129;01mor\u001B[39;00m is_object_dtype(dtype):\n\u001B[1;32m    169\u001B[0m     \u001B[38;5;66;03m# Explicit copy, or required since NumPy can't view from / to object.\u001B[39;00m\n\u001B[0;32m--> 170\u001B[0m     \u001B[38;5;28;01mreturn\u001B[39;00m \u001B[43marr\u001B[49m\u001B[38;5;241;43m.\u001B[39;49m\u001B[43mastype\u001B[49m\u001B[43m(\u001B[49m\u001B[43mdtype\u001B[49m\u001B[43m,\u001B[49m\u001B[43m \u001B[49m\u001B[43mcopy\u001B[49m\u001B[38;5;241;43m=\u001B[39;49m\u001B[38;5;28;43;01mTrue\u001B[39;49;00m\u001B[43m)\u001B[49m\n\u001B[1;32m    172\u001B[0m \u001B[38;5;28;01mreturn\u001B[39;00m arr\u001B[38;5;241m.\u001B[39mastype(dtype, copy\u001B[38;5;241m=\u001B[39mcopy)\n",
      "\u001B[0;31mValueError\u001B[0m: could not convert string to float: '1,439,323,776'"
     ]
    }
   ],
   "source": [
    "df.loc[:,'Population':] = df.loc[:,'Population':].astype(float)"
   ],
   "metadata": {
    "collapsed": false
   }
  },
  {
   "cell_type": "code",
   "execution_count": 30,
   "outputs": [
    {
     "data": {
      "text/plain": "        Population Yearly change  Net change Density (P/Km²) Land Area (Km²)  \\\n0    1,439,323,776         0.39%   5,540,090             153       9,388,211   \n1    1,380,004,385         0.99%  13,586,631             464       2,973,190   \n2      331,002,651         0.59%   1,937,734              36       9,147,420   \n3      273,523,615         1.07%   2,898,047             151       1,811,570   \n4      220,892,340         2.00%   4,327,022             287         770,880   \n..             ...           ...         ...             ...             ...   \n230          4,992         0.06%           3              50             100   \n231          3,480         3.05%         103               0          12,170   \n232          1,626         0.68%          11               6             260   \n233          1,357         1.27%          17             136              10   \n234            801         0.25%           2           2,003               0   \n\n     Migrants Fertility Rate MedianAge Urban Pop % World Share  \n0    -348,399            1.7        38         61%      18.47%  \n1    -532,687            2.2        28         35%      17.70%  \n2     954,806            1.8        38         83%       4.25%  \n3     -98,955            2.3        30         56%       3.51%  \n4    -233,379            3.6        23         35%       2.83%  \n..        ...            ...       ...         ...         ...  \n230       NaN           N.A.      N.A.         10%       0.00%  \n231       NaN           N.A.      N.A.         66%       0.00%  \n232       NaN           N.A.      N.A.         46%       0.00%  \n233       NaN           N.A.      N.A.          0%       0.00%  \n234       NaN           N.A.      N.A.        N.A.       0.00%  \n\n[235 rows x 10 columns]",
      "text/html": "<div>\n<style scoped>\n    .dataframe tbody tr th:only-of-type {\n        vertical-align: middle;\n    }\n\n    .dataframe tbody tr th {\n        vertical-align: top;\n    }\n\n    .dataframe thead th {\n        text-align: right;\n    }\n</style>\n<table border=\"1\" class=\"dataframe\">\n  <thead>\n    <tr style=\"text-align: right;\">\n      <th></th>\n      <th>Population</th>\n      <th>Yearly change</th>\n      <th>Net change</th>\n      <th>Density (P/Km²)</th>\n      <th>Land Area (Km²)</th>\n      <th>Migrants</th>\n      <th>Fertility Rate</th>\n      <th>MedianAge</th>\n      <th>Urban Pop %</th>\n      <th>World Share</th>\n    </tr>\n  </thead>\n  <tbody>\n    <tr>\n      <th>0</th>\n      <td>1,439,323,776</td>\n      <td>0.39%</td>\n      <td>5,540,090</td>\n      <td>153</td>\n      <td>9,388,211</td>\n      <td>-348,399</td>\n      <td>1.7</td>\n      <td>38</td>\n      <td>61%</td>\n      <td>18.47%</td>\n    </tr>\n    <tr>\n      <th>1</th>\n      <td>1,380,004,385</td>\n      <td>0.99%</td>\n      <td>13,586,631</td>\n      <td>464</td>\n      <td>2,973,190</td>\n      <td>-532,687</td>\n      <td>2.2</td>\n      <td>28</td>\n      <td>35%</td>\n      <td>17.70%</td>\n    </tr>\n    <tr>\n      <th>2</th>\n      <td>331,002,651</td>\n      <td>0.59%</td>\n      <td>1,937,734</td>\n      <td>36</td>\n      <td>9,147,420</td>\n      <td>954,806</td>\n      <td>1.8</td>\n      <td>38</td>\n      <td>83%</td>\n      <td>4.25%</td>\n    </tr>\n    <tr>\n      <th>3</th>\n      <td>273,523,615</td>\n      <td>1.07%</td>\n      <td>2,898,047</td>\n      <td>151</td>\n      <td>1,811,570</td>\n      <td>-98,955</td>\n      <td>2.3</td>\n      <td>30</td>\n      <td>56%</td>\n      <td>3.51%</td>\n    </tr>\n    <tr>\n      <th>4</th>\n      <td>220,892,340</td>\n      <td>2.00%</td>\n      <td>4,327,022</td>\n      <td>287</td>\n      <td>770,880</td>\n      <td>-233,379</td>\n      <td>3.6</td>\n      <td>23</td>\n      <td>35%</td>\n      <td>2.83%</td>\n    </tr>\n    <tr>\n      <th>...</th>\n      <td>...</td>\n      <td>...</td>\n      <td>...</td>\n      <td>...</td>\n      <td>...</td>\n      <td>...</td>\n      <td>...</td>\n      <td>...</td>\n      <td>...</td>\n      <td>...</td>\n    </tr>\n    <tr>\n      <th>230</th>\n      <td>4,992</td>\n      <td>0.06%</td>\n      <td>3</td>\n      <td>50</td>\n      <td>100</td>\n      <td>NaN</td>\n      <td>N.A.</td>\n      <td>N.A.</td>\n      <td>10%</td>\n      <td>0.00%</td>\n    </tr>\n    <tr>\n      <th>231</th>\n      <td>3,480</td>\n      <td>3.05%</td>\n      <td>103</td>\n      <td>0</td>\n      <td>12,170</td>\n      <td>NaN</td>\n      <td>N.A.</td>\n      <td>N.A.</td>\n      <td>66%</td>\n      <td>0.00%</td>\n    </tr>\n    <tr>\n      <th>232</th>\n      <td>1,626</td>\n      <td>0.68%</td>\n      <td>11</td>\n      <td>6</td>\n      <td>260</td>\n      <td>NaN</td>\n      <td>N.A.</td>\n      <td>N.A.</td>\n      <td>46%</td>\n      <td>0.00%</td>\n    </tr>\n    <tr>\n      <th>233</th>\n      <td>1,357</td>\n      <td>1.27%</td>\n      <td>17</td>\n      <td>136</td>\n      <td>10</td>\n      <td>NaN</td>\n      <td>N.A.</td>\n      <td>N.A.</td>\n      <td>0%</td>\n      <td>0.00%</td>\n    </tr>\n    <tr>\n      <th>234</th>\n      <td>801</td>\n      <td>0.25%</td>\n      <td>2</td>\n      <td>2,003</td>\n      <td>0</td>\n      <td>NaN</td>\n      <td>N.A.</td>\n      <td>N.A.</td>\n      <td>N.A.</td>\n      <td>0.00%</td>\n    </tr>\n  </tbody>\n</table>\n<p>235 rows × 10 columns</p>\n</div>"
     },
     "execution_count": 30,
     "metadata": {},
     "output_type": "execute_result"
    }
   ],
   "source": [
    "df.loc[:,'Population':].apply()"
   ],
   "metadata": {
    "collapsed": false
   }
  },
  {
   "cell_type": "code",
   "execution_count": 11,
   "outputs": [
    {
     "data": {
      "text/plain": "Country             0\nPopulation          0\nYearly change       0\nNet change          0\nDensity (P/Km²)     0\nLand Area (Km²)     0\nMigrants           34\nFertility Rate      0\nMedianAge           0\nUrban Pop %         0\nWorld Share         0\ndtype: int64"
     },
     "execution_count": 11,
     "metadata": {},
     "output_type": "execute_result"
    }
   ],
   "source": [
    "df.isnull().sum()"
   ],
   "metadata": {
    "collapsed": false
   }
  },
  {
   "cell_type": "markdown",
   "source": [
    "229,Saint Helena,\"6,077\",0.30%,18,16,390,,N.A.,N.A.,27%,0.00%\n",
    "\n",
    "I am unsure of why they decided to use N.A. as an na category type\n",
    "when both pandas and numpy have na specific types\n",
    "\n",
    "either pd.NA or np.nan\n",
    "* the np.nan is actually of type float\n",
    "\n"
   ],
   "metadata": {
    "collapsed": false
   }
  },
  {
   "cell_type": "code",
   "execution_count": null,
   "outputs": [],
   "source": [],
   "metadata": {
    "collapsed": false
   }
  }
 ],
 "metadata": {
  "kernelspec": {
   "display_name": "Python 3 (ipykernel)",
   "language": "python",
   "name": "python3"
  },
  "language_info": {
   "codemirror_mode": {
    "name": "ipython",
    "version": 3
   },
   "file_extension": ".py",
   "mimetype": "text/x-python",
   "name": "python",
   "nbconvert_exporter": "python",
   "pygments_lexer": "ipython3",
   "version": "3.10.0"
  }
 },
 "nbformat": 4,
 "nbformat_minor": 5
}
