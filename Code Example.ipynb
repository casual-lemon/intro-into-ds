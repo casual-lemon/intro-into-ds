{
 "cells": [
  {
   "cell_type": "markdown",
   "id": "54470045",
   "metadata": {},
   "source": [
    "# Code Example The World's Population in (Nov. 2022)"
   ]
  },
  {
   "cell_type": "markdown",
   "source": [
    "This dataset is from Kaggle\n",
    "\n",
    "https://www.kaggle.com/datasets/ahmadjalalmasood123/world-population-dataset?resource=download&select=World+Population+%282022%29+.csv\n",
    "\n"
   ],
   "metadata": {
    "collapsed": false
   }
  },
  {
   "cell_type": "code",
   "execution_count": 155,
   "id": "23a0b788",
   "metadata": {},
   "outputs": [],
   "source": [
    "import pandas as pd\n",
    "import numpy as np\n",
    "import matplotlib.pyplot as plt\n",
    "import seaborn as sns\n",
    "import plotly\n",
    "import leafmap.foliumap as leafmap\n",
    "import warnings\n",
    "warnings.filterwarnings('ignore')"
   ]
  },
  {
   "cell_type": "markdown",
   "source": [
    "# Read in data from CSV"
   ],
   "metadata": {
    "collapsed": false
   }
  },
  {
   "cell_type": "code",
   "execution_count": 133,
   "outputs": [
    {
     "data": {
      "text/plain": "   # Country (or dependency) Population (2022) Yearly change  Net change  \\\n0  1                   China     1,439,323,776         0.39%   5,540,090   \n1  2                   India     1,380,004,385         0.99%  13,586,631   \n2  3           United States       331,002,651         0.59%   1,937,734   \n3  4               Indonesia       273,523,615         1.07%   2,898,047   \n4  5                Pakistan       220,892,340         2.00%   4,327,022   \n\n  Density (P/Km²) Land Area (Km²) Migrants (net) Fert. Rate Med.Age  \\\n0             153       9,388,211       -348,399        1.7      38   \n1             464       2,973,190       -532,687        2.2      28   \n2              36       9,147,420        954,806        1.8      38   \n3             151       1,811,570        -98,955        2.3      30   \n4             287         770,880       -233,379        3.6      23   \n\n  Urban Pop % World Share  \n0         61%      18.47%  \n1         35%      17.70%  \n2         83%       4.25%  \n3         56%       3.51%  \n4         35%       2.83%  ",
      "text/html": "<div>\n<style scoped>\n    .dataframe tbody tr th:only-of-type {\n        vertical-align: middle;\n    }\n\n    .dataframe tbody tr th {\n        vertical-align: top;\n    }\n\n    .dataframe thead th {\n        text-align: right;\n    }\n</style>\n<table border=\"1\" class=\"dataframe\">\n  <thead>\n    <tr style=\"text-align: right;\">\n      <th></th>\n      <th>#</th>\n      <th>Country (or dependency)</th>\n      <th>Population (2022)</th>\n      <th>Yearly change</th>\n      <th>Net change</th>\n      <th>Density (P/Km²)</th>\n      <th>Land Area (Km²)</th>\n      <th>Migrants (net)</th>\n      <th>Fert. Rate</th>\n      <th>Med.Age</th>\n      <th>Urban Pop %</th>\n      <th>World Share</th>\n    </tr>\n  </thead>\n  <tbody>\n    <tr>\n      <th>0</th>\n      <td>1</td>\n      <td>China</td>\n      <td>1,439,323,776</td>\n      <td>0.39%</td>\n      <td>5,540,090</td>\n      <td>153</td>\n      <td>9,388,211</td>\n      <td>-348,399</td>\n      <td>1.7</td>\n      <td>38</td>\n      <td>61%</td>\n      <td>18.47%</td>\n    </tr>\n    <tr>\n      <th>1</th>\n      <td>2</td>\n      <td>India</td>\n      <td>1,380,004,385</td>\n      <td>0.99%</td>\n      <td>13,586,631</td>\n      <td>464</td>\n      <td>2,973,190</td>\n      <td>-532,687</td>\n      <td>2.2</td>\n      <td>28</td>\n      <td>35%</td>\n      <td>17.70%</td>\n    </tr>\n    <tr>\n      <th>2</th>\n      <td>3</td>\n      <td>United States</td>\n      <td>331,002,651</td>\n      <td>0.59%</td>\n      <td>1,937,734</td>\n      <td>36</td>\n      <td>9,147,420</td>\n      <td>954,806</td>\n      <td>1.8</td>\n      <td>38</td>\n      <td>83%</td>\n      <td>4.25%</td>\n    </tr>\n    <tr>\n      <th>3</th>\n      <td>4</td>\n      <td>Indonesia</td>\n      <td>273,523,615</td>\n      <td>1.07%</td>\n      <td>2,898,047</td>\n      <td>151</td>\n      <td>1,811,570</td>\n      <td>-98,955</td>\n      <td>2.3</td>\n      <td>30</td>\n      <td>56%</td>\n      <td>3.51%</td>\n    </tr>\n    <tr>\n      <th>4</th>\n      <td>5</td>\n      <td>Pakistan</td>\n      <td>220,892,340</td>\n      <td>2.00%</td>\n      <td>4,327,022</td>\n      <td>287</td>\n      <td>770,880</td>\n      <td>-233,379</td>\n      <td>3.6</td>\n      <td>23</td>\n      <td>35%</td>\n      <td>2.83%</td>\n    </tr>\n  </tbody>\n</table>\n</div>"
     },
     "execution_count": 133,
     "metadata": {},
     "output_type": "execute_result"
    }
   ],
   "source": [
    "df = pd.read_csv('WorldPopulation2022.csv')\n",
    "df.head()"
   ],
   "metadata": {
    "collapsed": false
   }
  },
  {
   "cell_type": "code",
   "execution_count": 134,
   "outputs": [
    {
     "data": {
      "text/plain": "(235, 12)"
     },
     "execution_count": 134,
     "metadata": {},
     "output_type": "execute_result"
    }
   ],
   "source": [
    "df.shape"
   ],
   "metadata": {
    "collapsed": false
   }
  },
  {
   "cell_type": "markdown",
   "source": [
    "There are 235 rows and 12 columns (features)"
   ],
   "metadata": {
    "collapsed": false
   }
  },
  {
   "cell_type": "markdown",
   "source": [
    "## Exploratory Data Analysis"
   ],
   "metadata": {
    "collapsed": false
   }
  },
  {
   "cell_type": "code",
   "execution_count": 135,
   "outputs": [],
   "source": [
    "df = df.drop('#', axis=1)"
   ],
   "metadata": {
    "collapsed": false
   }
  },
  {
   "cell_type": "code",
   "execution_count": 136,
   "outputs": [
    {
     "data": {
      "text/plain": "  Country (or dependency) Population (2022) Yearly change  Net change  \\\n0                   China     1,439,323,776         0.39%   5,540,090   \n1                   India     1,380,004,385         0.99%  13,586,631   \n2           United States       331,002,651         0.59%   1,937,734   \n3               Indonesia       273,523,615         1.07%   2,898,047   \n4                Pakistan       220,892,340         2.00%   4,327,022   \n\n  Density (P/Km²) Land Area (Km²) Migrants (net) Fert. Rate Med.Age  \\\n0             153       9,388,211       -348,399        1.7      38   \n1             464       2,973,190       -532,687        2.2      28   \n2              36       9,147,420        954,806        1.8      38   \n3             151       1,811,570        -98,955        2.3      30   \n4             287         770,880       -233,379        3.6      23   \n\n  Urban Pop % World Share  \n0         61%      18.47%  \n1         35%      17.70%  \n2         83%       4.25%  \n3         56%       3.51%  \n4         35%       2.83%  ",
      "text/html": "<div>\n<style scoped>\n    .dataframe tbody tr th:only-of-type {\n        vertical-align: middle;\n    }\n\n    .dataframe tbody tr th {\n        vertical-align: top;\n    }\n\n    .dataframe thead th {\n        text-align: right;\n    }\n</style>\n<table border=\"1\" class=\"dataframe\">\n  <thead>\n    <tr style=\"text-align: right;\">\n      <th></th>\n      <th>Country (or dependency)</th>\n      <th>Population (2022)</th>\n      <th>Yearly change</th>\n      <th>Net change</th>\n      <th>Density (P/Km²)</th>\n      <th>Land Area (Km²)</th>\n      <th>Migrants (net)</th>\n      <th>Fert. Rate</th>\n      <th>Med.Age</th>\n      <th>Urban Pop %</th>\n      <th>World Share</th>\n    </tr>\n  </thead>\n  <tbody>\n    <tr>\n      <th>0</th>\n      <td>China</td>\n      <td>1,439,323,776</td>\n      <td>0.39%</td>\n      <td>5,540,090</td>\n      <td>153</td>\n      <td>9,388,211</td>\n      <td>-348,399</td>\n      <td>1.7</td>\n      <td>38</td>\n      <td>61%</td>\n      <td>18.47%</td>\n    </tr>\n    <tr>\n      <th>1</th>\n      <td>India</td>\n      <td>1,380,004,385</td>\n      <td>0.99%</td>\n      <td>13,586,631</td>\n      <td>464</td>\n      <td>2,973,190</td>\n      <td>-532,687</td>\n      <td>2.2</td>\n      <td>28</td>\n      <td>35%</td>\n      <td>17.70%</td>\n    </tr>\n    <tr>\n      <th>2</th>\n      <td>United States</td>\n      <td>331,002,651</td>\n      <td>0.59%</td>\n      <td>1,937,734</td>\n      <td>36</td>\n      <td>9,147,420</td>\n      <td>954,806</td>\n      <td>1.8</td>\n      <td>38</td>\n      <td>83%</td>\n      <td>4.25%</td>\n    </tr>\n    <tr>\n      <th>3</th>\n      <td>Indonesia</td>\n      <td>273,523,615</td>\n      <td>1.07%</td>\n      <td>2,898,047</td>\n      <td>151</td>\n      <td>1,811,570</td>\n      <td>-98,955</td>\n      <td>2.3</td>\n      <td>30</td>\n      <td>56%</td>\n      <td>3.51%</td>\n    </tr>\n    <tr>\n      <th>4</th>\n      <td>Pakistan</td>\n      <td>220,892,340</td>\n      <td>2.00%</td>\n      <td>4,327,022</td>\n      <td>287</td>\n      <td>770,880</td>\n      <td>-233,379</td>\n      <td>3.6</td>\n      <td>23</td>\n      <td>35%</td>\n      <td>2.83%</td>\n    </tr>\n  </tbody>\n</table>\n</div>"
     },
     "execution_count": 136,
     "metadata": {},
     "output_type": "execute_result"
    }
   ],
   "source": [
    "df.head()"
   ],
   "metadata": {
    "collapsed": false
   }
  },
  {
   "cell_type": "code",
   "execution_count": 137,
   "outputs": [
    {
     "data": {
      "text/plain": "         Country     Population Yearly change %  Net change Density (P/Km²)  \\\n0          China  1,439,323,776           0.39%   5,540,090             153   \n1          India  1,380,004,385           0.99%  13,586,631             464   \n2  United States    331,002,651           0.59%   1,937,734              36   \n3      Indonesia    273,523,615           1.07%   2,898,047             151   \n4       Pakistan    220,892,340           2.00%   4,327,022             287   \n\n  Land Area (Km²)  Migrants Fertility Rate Median Age Urban Pop %  \\\n0       9,388,211  -348,399            1.7         38         61%   \n1       2,973,190  -532,687            2.2         28         35%   \n2       9,147,420   954,806            1.8         38         83%   \n3       1,811,570   -98,955            2.3         30         56%   \n4         770,880  -233,379            3.6         23         35%   \n\n  World Share %  \n0        18.47%  \n1        17.70%  \n2         4.25%  \n3         3.51%  \n4         2.83%  ",
      "text/html": "<div>\n<style scoped>\n    .dataframe tbody tr th:only-of-type {\n        vertical-align: middle;\n    }\n\n    .dataframe tbody tr th {\n        vertical-align: top;\n    }\n\n    .dataframe thead th {\n        text-align: right;\n    }\n</style>\n<table border=\"1\" class=\"dataframe\">\n  <thead>\n    <tr style=\"text-align: right;\">\n      <th></th>\n      <th>Country</th>\n      <th>Population</th>\n      <th>Yearly change %</th>\n      <th>Net change</th>\n      <th>Density (P/Km²)</th>\n      <th>Land Area (Km²)</th>\n      <th>Migrants</th>\n      <th>Fertility Rate</th>\n      <th>Median Age</th>\n      <th>Urban Pop %</th>\n      <th>World Share %</th>\n    </tr>\n  </thead>\n  <tbody>\n    <tr>\n      <th>0</th>\n      <td>China</td>\n      <td>1,439,323,776</td>\n      <td>0.39%</td>\n      <td>5,540,090</td>\n      <td>153</td>\n      <td>9,388,211</td>\n      <td>-348,399</td>\n      <td>1.7</td>\n      <td>38</td>\n      <td>61%</td>\n      <td>18.47%</td>\n    </tr>\n    <tr>\n      <th>1</th>\n      <td>India</td>\n      <td>1,380,004,385</td>\n      <td>0.99%</td>\n      <td>13,586,631</td>\n      <td>464</td>\n      <td>2,973,190</td>\n      <td>-532,687</td>\n      <td>2.2</td>\n      <td>28</td>\n      <td>35%</td>\n      <td>17.70%</td>\n    </tr>\n    <tr>\n      <th>2</th>\n      <td>United States</td>\n      <td>331,002,651</td>\n      <td>0.59%</td>\n      <td>1,937,734</td>\n      <td>36</td>\n      <td>9,147,420</td>\n      <td>954,806</td>\n      <td>1.8</td>\n      <td>38</td>\n      <td>83%</td>\n      <td>4.25%</td>\n    </tr>\n    <tr>\n      <th>3</th>\n      <td>Indonesia</td>\n      <td>273,523,615</td>\n      <td>1.07%</td>\n      <td>2,898,047</td>\n      <td>151</td>\n      <td>1,811,570</td>\n      <td>-98,955</td>\n      <td>2.3</td>\n      <td>30</td>\n      <td>56%</td>\n      <td>3.51%</td>\n    </tr>\n    <tr>\n      <th>4</th>\n      <td>Pakistan</td>\n      <td>220,892,340</td>\n      <td>2.00%</td>\n      <td>4,327,022</td>\n      <td>287</td>\n      <td>770,880</td>\n      <td>-233,379</td>\n      <td>3.6</td>\n      <td>23</td>\n      <td>35%</td>\n      <td>2.83%</td>\n    </tr>\n  </tbody>\n</table>\n</div>"
     },
     "execution_count": 137,
     "metadata": {},
     "output_type": "execute_result"
    }
   ],
   "source": [
    "df = df.rename(columns={'Country (or dependency)':'Country', 'Population (2022)':'Population', 'Med.Age': 'Median Age', 'Fert. Rate':'Fertility Rate', 'Migrants (net)': 'Migrants', 'Yearly change': 'Yearly change %', 'World Share':'World Share %'})\n",
    "df.head()"
   ],
   "metadata": {
    "collapsed": false
   }
  },
  {
   "cell_type": "code",
   "execution_count": 138,
   "outputs": [
    {
     "data": {
      "text/plain": "Country            object\nPopulation         object\nYearly change %    object\nNet change         object\nDensity (P/Km²)    object\nLand Area (Km²)    object\nMigrants           object\nFertility Rate     object\nMedian Age         object\nUrban Pop %        object\nWorld Share %      object\ndtype: object"
     },
     "execution_count": 138,
     "metadata": {},
     "output_type": "execute_result"
    }
   ],
   "source": [
    "df.dtypes"
   ],
   "metadata": {
    "collapsed": false
   }
  },
  {
   "cell_type": "markdown",
   "source": [
    "Not good, we need all these to be of type int (execpt for country name)"
   ],
   "metadata": {
    "collapsed": false
   }
  },
  {
   "cell_type": "code",
   "execution_count": 139,
   "outputs": [],
   "source": [
    "# df.loc[:,'Population':] = df.loc[:,'Population':].astype(float)"
   ],
   "metadata": {
    "collapsed": false
   }
  },
  {
   "cell_type": "markdown",
   "source": [
    "We see an error has occurred:\n",
    "\n",
    "ValueError: could not convert string to float: '1,439,323,776'"
   ],
   "metadata": {
    "collapsed": false
   }
  },
  {
   "cell_type": "code",
   "execution_count": 140,
   "outputs": [
    {
     "data": {
      "text/plain": "         Country  Population Yearly change % Net change Density (P/Km²)  \\\n0          China  1439323776           0.39%    5540090             153   \n1          India  1380004385           0.99%   13586631             464   \n2  United States   331002651           0.59%    1937734              36   \n\n  Land Area (Km²) Migrants Fertility Rate Median Age Urban Pop % World Share %  \n0         9388211  -348399            1.7         38         61%        18.47%  \n1         2973190  -532687            2.2         28         35%        17.70%  \n2         9147420   954806            1.8         38         83%         4.25%  ",
      "text/html": "<div>\n<style scoped>\n    .dataframe tbody tr th:only-of-type {\n        vertical-align: middle;\n    }\n\n    .dataframe tbody tr th {\n        vertical-align: top;\n    }\n\n    .dataframe thead th {\n        text-align: right;\n    }\n</style>\n<table border=\"1\" class=\"dataframe\">\n  <thead>\n    <tr style=\"text-align: right;\">\n      <th></th>\n      <th>Country</th>\n      <th>Population</th>\n      <th>Yearly change %</th>\n      <th>Net change</th>\n      <th>Density (P/Km²)</th>\n      <th>Land Area (Km²)</th>\n      <th>Migrants</th>\n      <th>Fertility Rate</th>\n      <th>Median Age</th>\n      <th>Urban Pop %</th>\n      <th>World Share %</th>\n    </tr>\n  </thead>\n  <tbody>\n    <tr>\n      <th>0</th>\n      <td>China</td>\n      <td>1439323776</td>\n      <td>0.39%</td>\n      <td>5540090</td>\n      <td>153</td>\n      <td>9388211</td>\n      <td>-348399</td>\n      <td>1.7</td>\n      <td>38</td>\n      <td>61%</td>\n      <td>18.47%</td>\n    </tr>\n    <tr>\n      <th>1</th>\n      <td>India</td>\n      <td>1380004385</td>\n      <td>0.99%</td>\n      <td>13586631</td>\n      <td>464</td>\n      <td>2973190</td>\n      <td>-532687</td>\n      <td>2.2</td>\n      <td>28</td>\n      <td>35%</td>\n      <td>17.70%</td>\n    </tr>\n    <tr>\n      <th>2</th>\n      <td>United States</td>\n      <td>331002651</td>\n      <td>0.59%</td>\n      <td>1937734</td>\n      <td>36</td>\n      <td>9147420</td>\n      <td>954806</td>\n      <td>1.8</td>\n      <td>38</td>\n      <td>83%</td>\n      <td>4.25%</td>\n    </tr>\n  </tbody>\n</table>\n</div>"
     },
     "execution_count": 140,
     "metadata": {},
     "output_type": "execute_result"
    }
   ],
   "source": [
    "df.replace(to_replace=',', value='', regex=True,  inplace=True)\n",
    "df.head(3)"
   ],
   "metadata": {
    "collapsed": false
   }
  },
  {
   "cell_type": "code",
   "execution_count": 141,
   "outputs": [
    {
     "data": {
      "text/plain": "         Country  Population Yearly change % Net change Density (P/Km²)  \\\n0          China  1439323776            0.39    5540090             153   \n1          India  1380004385            0.99   13586631             464   \n2  United States   331002651            0.59    1937734              36   \n3      Indonesia   273523615            1.07    2898047             151   \n4       Pakistan   220892340            2.00    4327022             287   \n\n  Land Area (Km²) Migrants Fertility Rate Median Age Urban Pop % World Share %  \n0         9388211  -348399            1.7         38          61         18.47  \n1         2973190  -532687            2.2         28          35         17.70  \n2         9147420   954806            1.8         38          83          4.25  \n3         1811570   -98955            2.3         30          56          3.51  \n4          770880  -233379            3.6         23          35          2.83  ",
      "text/html": "<div>\n<style scoped>\n    .dataframe tbody tr th:only-of-type {\n        vertical-align: middle;\n    }\n\n    .dataframe tbody tr th {\n        vertical-align: top;\n    }\n\n    .dataframe thead th {\n        text-align: right;\n    }\n</style>\n<table border=\"1\" class=\"dataframe\">\n  <thead>\n    <tr style=\"text-align: right;\">\n      <th></th>\n      <th>Country</th>\n      <th>Population</th>\n      <th>Yearly change %</th>\n      <th>Net change</th>\n      <th>Density (P/Km²)</th>\n      <th>Land Area (Km²)</th>\n      <th>Migrants</th>\n      <th>Fertility Rate</th>\n      <th>Median Age</th>\n      <th>Urban Pop %</th>\n      <th>World Share %</th>\n    </tr>\n  </thead>\n  <tbody>\n    <tr>\n      <th>0</th>\n      <td>China</td>\n      <td>1439323776</td>\n      <td>0.39</td>\n      <td>5540090</td>\n      <td>153</td>\n      <td>9388211</td>\n      <td>-348399</td>\n      <td>1.7</td>\n      <td>38</td>\n      <td>61</td>\n      <td>18.47</td>\n    </tr>\n    <tr>\n      <th>1</th>\n      <td>India</td>\n      <td>1380004385</td>\n      <td>0.99</td>\n      <td>13586631</td>\n      <td>464</td>\n      <td>2973190</td>\n      <td>-532687</td>\n      <td>2.2</td>\n      <td>28</td>\n      <td>35</td>\n      <td>17.70</td>\n    </tr>\n    <tr>\n      <th>2</th>\n      <td>United States</td>\n      <td>331002651</td>\n      <td>0.59</td>\n      <td>1937734</td>\n      <td>36</td>\n      <td>9147420</td>\n      <td>954806</td>\n      <td>1.8</td>\n      <td>38</td>\n      <td>83</td>\n      <td>4.25</td>\n    </tr>\n    <tr>\n      <th>3</th>\n      <td>Indonesia</td>\n      <td>273523615</td>\n      <td>1.07</td>\n      <td>2898047</td>\n      <td>151</td>\n      <td>1811570</td>\n      <td>-98955</td>\n      <td>2.3</td>\n      <td>30</td>\n      <td>56</td>\n      <td>3.51</td>\n    </tr>\n    <tr>\n      <th>4</th>\n      <td>Pakistan</td>\n      <td>220892340</td>\n      <td>2.00</td>\n      <td>4327022</td>\n      <td>287</td>\n      <td>770880</td>\n      <td>-233379</td>\n      <td>3.6</td>\n      <td>23</td>\n      <td>35</td>\n      <td>2.83</td>\n    </tr>\n  </tbody>\n</table>\n</div>"
     },
     "execution_count": 141,
     "metadata": {},
     "output_type": "execute_result"
    }
   ],
   "source": [
    "df.replace(to_replace='%', value='', regex=True,  inplace=True)\n",
    "df.head()"
   ],
   "metadata": {
    "collapsed": false
   }
  },
  {
   "cell_type": "code",
   "execution_count": 142,
   "outputs": [
    {
     "data": {
      "text/plain": "              Country Population Yearly change % Net change Density (P/Km²)  \\\n230        Montserrat       4992            0.06          3              50   \n231  Falkland Islands       3480            3.05        103               0   \n232              Niue       1626            0.68         11               6   \n233           Tokelau       1357            1.27         17             136   \n234          Holy See        801            0.25          2            2003   \n\n    Land Area (Km²) Migrants Fertility Rate Median Age Urban Pop %  \\\n230             100      NaN           N.A.       N.A.          10   \n231           12170      NaN           N.A.       N.A.          66   \n232             260      NaN           N.A.       N.A.          46   \n233              10      NaN           N.A.       N.A.           0   \n234               0      NaN           N.A.       N.A.        N.A.   \n\n    World Share %  \n230          0.00  \n231          0.00  \n232          0.00  \n233          0.00  \n234          0.00  ",
      "text/html": "<div>\n<style scoped>\n    .dataframe tbody tr th:only-of-type {\n        vertical-align: middle;\n    }\n\n    .dataframe tbody tr th {\n        vertical-align: top;\n    }\n\n    .dataframe thead th {\n        text-align: right;\n    }\n</style>\n<table border=\"1\" class=\"dataframe\">\n  <thead>\n    <tr style=\"text-align: right;\">\n      <th></th>\n      <th>Country</th>\n      <th>Population</th>\n      <th>Yearly change %</th>\n      <th>Net change</th>\n      <th>Density (P/Km²)</th>\n      <th>Land Area (Km²)</th>\n      <th>Migrants</th>\n      <th>Fertility Rate</th>\n      <th>Median Age</th>\n      <th>Urban Pop %</th>\n      <th>World Share %</th>\n    </tr>\n  </thead>\n  <tbody>\n    <tr>\n      <th>230</th>\n      <td>Montserrat</td>\n      <td>4992</td>\n      <td>0.06</td>\n      <td>3</td>\n      <td>50</td>\n      <td>100</td>\n      <td>NaN</td>\n      <td>N.A.</td>\n      <td>N.A.</td>\n      <td>10</td>\n      <td>0.00</td>\n    </tr>\n    <tr>\n      <th>231</th>\n      <td>Falkland Islands</td>\n      <td>3480</td>\n      <td>3.05</td>\n      <td>103</td>\n      <td>0</td>\n      <td>12170</td>\n      <td>NaN</td>\n      <td>N.A.</td>\n      <td>N.A.</td>\n      <td>66</td>\n      <td>0.00</td>\n    </tr>\n    <tr>\n      <th>232</th>\n      <td>Niue</td>\n      <td>1626</td>\n      <td>0.68</td>\n      <td>11</td>\n      <td>6</td>\n      <td>260</td>\n      <td>NaN</td>\n      <td>N.A.</td>\n      <td>N.A.</td>\n      <td>46</td>\n      <td>0.00</td>\n    </tr>\n    <tr>\n      <th>233</th>\n      <td>Tokelau</td>\n      <td>1357</td>\n      <td>1.27</td>\n      <td>17</td>\n      <td>136</td>\n      <td>10</td>\n      <td>NaN</td>\n      <td>N.A.</td>\n      <td>N.A.</td>\n      <td>0</td>\n      <td>0.00</td>\n    </tr>\n    <tr>\n      <th>234</th>\n      <td>Holy See</td>\n      <td>801</td>\n      <td>0.25</td>\n      <td>2</td>\n      <td>2003</td>\n      <td>0</td>\n      <td>NaN</td>\n      <td>N.A.</td>\n      <td>N.A.</td>\n      <td>N.A.</td>\n      <td>0.00</td>\n    </tr>\n  </tbody>\n</table>\n</div>"
     },
     "execution_count": 142,
     "metadata": {},
     "output_type": "execute_result"
    }
   ],
   "source": [
    "df.tail()"
   ],
   "metadata": {
    "collapsed": false
   }
  },
  {
   "cell_type": "code",
   "execution_count": 143,
   "outputs": [
    {
     "data": {
      "text/plain": "              Country Population Yearly change % Net change Density (P/Km²)  \\\n230        Montserrat       4992            0.06          3              50   \n231  Falkland Islands       3480            3.05        103               0   \n232              Niue       1626            0.68         11               6   \n233           Tokelau       1357            1.27         17             136   \n234          Holy See        801            0.25          2            2003   \n\n    Land Area (Km²) Migrants Fertility Rate Median Age Urban Pop %  \\\n230             100      NaN            NaN        NaN          10   \n231           12170      NaN            NaN        NaN          66   \n232             260      NaN            NaN        NaN          46   \n233              10      NaN            NaN        NaN           0   \n234               0      NaN            NaN        NaN         NaN   \n\n    World Share %  \n230          0.00  \n231          0.00  \n232          0.00  \n233          0.00  \n234          0.00  ",
      "text/html": "<div>\n<style scoped>\n    .dataframe tbody tr th:only-of-type {\n        vertical-align: middle;\n    }\n\n    .dataframe tbody tr th {\n        vertical-align: top;\n    }\n\n    .dataframe thead th {\n        text-align: right;\n    }\n</style>\n<table border=\"1\" class=\"dataframe\">\n  <thead>\n    <tr style=\"text-align: right;\">\n      <th></th>\n      <th>Country</th>\n      <th>Population</th>\n      <th>Yearly change %</th>\n      <th>Net change</th>\n      <th>Density (P/Km²)</th>\n      <th>Land Area (Km²)</th>\n      <th>Migrants</th>\n      <th>Fertility Rate</th>\n      <th>Median Age</th>\n      <th>Urban Pop %</th>\n      <th>World Share %</th>\n    </tr>\n  </thead>\n  <tbody>\n    <tr>\n      <th>230</th>\n      <td>Montserrat</td>\n      <td>4992</td>\n      <td>0.06</td>\n      <td>3</td>\n      <td>50</td>\n      <td>100</td>\n      <td>NaN</td>\n      <td>NaN</td>\n      <td>NaN</td>\n      <td>10</td>\n      <td>0.00</td>\n    </tr>\n    <tr>\n      <th>231</th>\n      <td>Falkland Islands</td>\n      <td>3480</td>\n      <td>3.05</td>\n      <td>103</td>\n      <td>0</td>\n      <td>12170</td>\n      <td>NaN</td>\n      <td>NaN</td>\n      <td>NaN</td>\n      <td>66</td>\n      <td>0.00</td>\n    </tr>\n    <tr>\n      <th>232</th>\n      <td>Niue</td>\n      <td>1626</td>\n      <td>0.68</td>\n      <td>11</td>\n      <td>6</td>\n      <td>260</td>\n      <td>NaN</td>\n      <td>NaN</td>\n      <td>NaN</td>\n      <td>46</td>\n      <td>0.00</td>\n    </tr>\n    <tr>\n      <th>233</th>\n      <td>Tokelau</td>\n      <td>1357</td>\n      <td>1.27</td>\n      <td>17</td>\n      <td>136</td>\n      <td>10</td>\n      <td>NaN</td>\n      <td>NaN</td>\n      <td>NaN</td>\n      <td>0</td>\n      <td>0.00</td>\n    </tr>\n    <tr>\n      <th>234</th>\n      <td>Holy See</td>\n      <td>801</td>\n      <td>0.25</td>\n      <td>2</td>\n      <td>2003</td>\n      <td>0</td>\n      <td>NaN</td>\n      <td>NaN</td>\n      <td>NaN</td>\n      <td>NaN</td>\n      <td>0.00</td>\n    </tr>\n  </tbody>\n</table>\n</div>"
     },
     "execution_count": 143,
     "metadata": {},
     "output_type": "execute_result"
    }
   ],
   "source": [
    "df.replace(to_replace='N.A.', value=np.nan, regex=True,  inplace=True)\n",
    "df.tail()"
   ],
   "metadata": {
    "collapsed": false
   }
  },
  {
   "cell_type": "code",
   "execution_count": 144,
   "outputs": [
    {
     "data": {
      "text/plain": "Country            object\nPopulation         object\nYearly change %    object\nNet change         object\nDensity (P/Km²)    object\nLand Area (Km²)    object\nMigrants           object\nFertility Rate     object\nMedian Age         object\nUrban Pop %        object\nWorld Share %      object\ndtype: object"
     },
     "execution_count": 144,
     "metadata": {},
     "output_type": "execute_result"
    }
   ],
   "source": [
    "df.dtypes"
   ],
   "metadata": {
    "collapsed": false
   }
  },
  {
   "cell_type": "code",
   "execution_count": 145,
   "outputs": [
    {
     "data": {
      "text/plain": "Country            object\nPopulation          Int64\nYearly change %    object\nNet change          Int64\nDensity (P/Km²)     Int64\nLand Area (Km²)     Int64\nMigrants            Int64\nFertility Rate     object\nMedian Age          Int64\nUrban Pop %        object\nWorld Share %      object\ndtype: object"
     },
     "execution_count": 145,
     "metadata": {},
     "output_type": "execute_result"
    }
   ],
   "source": [
    "numeric_subset = df.loc[:, ~df.columns.isin(['Country', 'Fertility Rate', 'Yearly change %', 'Urban Pop %', 'World Share %'])]\n",
    "numeric_subset = numeric_subset.astype('Int64')\n",
    "df[numeric_subset.columns] = numeric_subset\n",
    "df.dtypes"
   ],
   "metadata": {
    "collapsed": false
   }
  },
  {
   "cell_type": "code",
   "execution_count": 146,
   "outputs": [
    {
     "data": {
      "text/plain": "Country             object\nPopulation           Int64\nYearly change %    float64\nNet change           Int64\nDensity (P/Km²)      Int64\nLand Area (Km²)      Int64\nMigrants             Int64\nFertility Rate     float64\nMedian Age           Int64\nUrban Pop %        float64\nWorld Share %      float64\ndtype: object"
     },
     "execution_count": 146,
     "metadata": {},
     "output_type": "execute_result"
    }
   ],
   "source": [
    "float_subset = df.loc[:, df.columns.isin(['Yearly change %', 'Fertility Rate', 'Urban Pop %', 'World Share %'])]\n",
    "float_subset = float_subset.astype(float)\n",
    "df[float_subset.columns] = float_subset\n",
    "df.dtypes"
   ],
   "metadata": {
    "collapsed": false
   }
  },
  {
   "cell_type": "code",
   "execution_count": 147,
   "outputs": [
    {
     "data": {
      "text/plain": "Country             0\nPopulation          0\nYearly change %     0\nNet change          0\nDensity (P/Km²)     0\nLand Area (Km²)     0\nMigrants           34\nFertility Rate     34\nMedian Age         34\nUrban Pop %        13\nWorld Share %       0\ndtype: int64"
     },
     "execution_count": 147,
     "metadata": {},
     "output_type": "execute_result"
    }
   ],
   "source": [
    "df.isnull().sum()"
   ],
   "metadata": {
    "collapsed": false
   }
  },
  {
   "cell_type": "markdown",
   "source": [
    "229,Saint Helena,\"6,077\",0.30%,18,16,390,,N.A.,N.A.,27%,0.00%\n",
    "\n",
    "I am unsure of why they decided to use N.A. as a na category type\n",
    "when both pandas and numpy have na specific types\n",
    "\n",
    "either pd.NA or np.nan\n",
    "* the np.nan is actually of type float"
   ],
   "metadata": {
    "collapsed": false
   }
  },
  {
   "cell_type": "markdown",
   "source": [
    "# Feature Engineering & Visualizations"
   ],
   "metadata": {
    "collapsed": false
   }
  },
  {
   "cell_type": "markdown",
   "source": [
    "What questions would we like to ask about the data?"
   ],
   "metadata": {
    "collapsed": false
   }
  },
  {
   "cell_type": "code",
   "execution_count": 153,
   "outputs": [
    {
     "ename": "TypeError",
     "evalue": "ufunc 'isfinite' not supported for the input types, and the inputs could not be safely coerced to any supported types according to the casting rule ''safe''",
     "output_type": "error",
     "traceback": [
      "\u001B[0;31m---------------------------------------------------------------------------\u001B[0m",
      "\u001B[0;31mTypeError\u001B[0m                                 Traceback (most recent call last)",
      "Cell \u001B[0;32mIn [153], line 1\u001B[0m\n\u001B[0;32m----> 1\u001B[0m \u001B[43msns\u001B[49m\u001B[38;5;241;43m.\u001B[39;49m\u001B[43mlmplot\u001B[49m\u001B[43m(\u001B[49m\u001B[43mdata\u001B[49m\u001B[38;5;241;43m=\u001B[39;49m\u001B[43mdf\u001B[49m\u001B[43m,\u001B[49m\u001B[43m \u001B[49m\u001B[43mx\u001B[49m\u001B[38;5;241;43m=\u001B[39;49m\u001B[38;5;124;43m'\u001B[39;49m\u001B[38;5;124;43mFertility Rate\u001B[39;49m\u001B[38;5;124;43m'\u001B[39;49m\u001B[43m,\u001B[49m\u001B[43m \u001B[49m\u001B[43my\u001B[49m\u001B[38;5;241;43m=\u001B[39;49m\u001B[38;5;124;43m'\u001B[39;49m\u001B[38;5;124;43mPopulation\u001B[39;49m\u001B[38;5;124;43m'\u001B[39;49m\u001B[43m)\u001B[49m\n",
      "File \u001B[0;32m~/.local/lib/python3.10/site-packages/seaborn/regression.py:635\u001B[0m, in \u001B[0;36mlmplot\u001B[0;34m(data, x, y, hue, col, row, palette, col_wrap, height, aspect, markers, sharex, sharey, hue_order, col_order, row_order, legend, legend_out, x_estimator, x_bins, x_ci, scatter, fit_reg, ci, n_boot, units, seed, order, logistic, lowess, robust, logx, x_partial, y_partial, truncate, x_jitter, y_jitter, scatter_kws, line_kws, facet_kws)\u001B[0m\n\u001B[1;32m    626\u001B[0m \u001B[38;5;66;03m# Draw the regression plot on each facet\u001B[39;00m\n\u001B[1;32m    627\u001B[0m regplot_kws \u001B[38;5;241m=\u001B[39m \u001B[38;5;28mdict\u001B[39m(\n\u001B[1;32m    628\u001B[0m     x_estimator\u001B[38;5;241m=\u001B[39mx_estimator, x_bins\u001B[38;5;241m=\u001B[39mx_bins, x_ci\u001B[38;5;241m=\u001B[39mx_ci,\n\u001B[1;32m    629\u001B[0m     scatter\u001B[38;5;241m=\u001B[39mscatter, fit_reg\u001B[38;5;241m=\u001B[39mfit_reg, ci\u001B[38;5;241m=\u001B[39mci, n_boot\u001B[38;5;241m=\u001B[39mn_boot, units\u001B[38;5;241m=\u001B[39munits,\n\u001B[0;32m   (...)\u001B[0m\n\u001B[1;32m    633\u001B[0m     scatter_kws\u001B[38;5;241m=\u001B[39mscatter_kws, line_kws\u001B[38;5;241m=\u001B[39mline_kws,\n\u001B[1;32m    634\u001B[0m )\n\u001B[0;32m--> 635\u001B[0m \u001B[43mfacets\u001B[49m\u001B[38;5;241;43m.\u001B[39;49m\u001B[43mmap_dataframe\u001B[49m\u001B[43m(\u001B[49m\u001B[43mregplot\u001B[49m\u001B[43m,\u001B[49m\u001B[43m \u001B[49m\u001B[43mx\u001B[49m\u001B[38;5;241;43m=\u001B[39;49m\u001B[43mx\u001B[49m\u001B[43m,\u001B[49m\u001B[43m \u001B[49m\u001B[43my\u001B[49m\u001B[38;5;241;43m=\u001B[39;49m\u001B[43my\u001B[49m\u001B[43m,\u001B[49m\u001B[43m \u001B[49m\u001B[38;5;241;43m*\u001B[39;49m\u001B[38;5;241;43m*\u001B[39;49m\u001B[43mregplot_kws\u001B[49m\u001B[43m)\u001B[49m\n\u001B[1;32m    636\u001B[0m facets\u001B[38;5;241m.\u001B[39mset_axis_labels(x, y)\n\u001B[1;32m    638\u001B[0m \u001B[38;5;66;03m# Add a legend\u001B[39;00m\n",
      "File \u001B[0;32m~/.local/lib/python3.10/site-packages/seaborn/axisgrid.py:819\u001B[0m, in \u001B[0;36mFacetGrid.map_dataframe\u001B[0;34m(self, func, *args, **kwargs)\u001B[0m\n\u001B[1;32m    816\u001B[0m     kwargs[\u001B[38;5;124m\"\u001B[39m\u001B[38;5;124mdata\u001B[39m\u001B[38;5;124m\"\u001B[39m] \u001B[38;5;241m=\u001B[39m data_ijk\n\u001B[1;32m    818\u001B[0m     \u001B[38;5;66;03m# Draw the plot\u001B[39;00m\n\u001B[0;32m--> 819\u001B[0m     \u001B[38;5;28;43mself\u001B[39;49m\u001B[38;5;241;43m.\u001B[39;49m\u001B[43m_facet_plot\u001B[49m\u001B[43m(\u001B[49m\u001B[43mfunc\u001B[49m\u001B[43m,\u001B[49m\u001B[43m \u001B[49m\u001B[43max\u001B[49m\u001B[43m,\u001B[49m\u001B[43m \u001B[49m\u001B[43margs\u001B[49m\u001B[43m,\u001B[49m\u001B[43m \u001B[49m\u001B[43mkwargs\u001B[49m\u001B[43m)\u001B[49m\n\u001B[1;32m    821\u001B[0m \u001B[38;5;66;03m# For axis labels, prefer to use positional args for backcompat\u001B[39;00m\n\u001B[1;32m    822\u001B[0m \u001B[38;5;66;03m# but also extract the x/y kwargs and use if no corresponding arg\u001B[39;00m\n\u001B[1;32m    823\u001B[0m axis_labels \u001B[38;5;241m=\u001B[39m [kwargs\u001B[38;5;241m.\u001B[39mget(\u001B[38;5;124m\"\u001B[39m\u001B[38;5;124mx\u001B[39m\u001B[38;5;124m\"\u001B[39m, \u001B[38;5;28;01mNone\u001B[39;00m), kwargs\u001B[38;5;241m.\u001B[39mget(\u001B[38;5;124m\"\u001B[39m\u001B[38;5;124my\u001B[39m\u001B[38;5;124m\"\u001B[39m, \u001B[38;5;28;01mNone\u001B[39;00m)]\n",
      "File \u001B[0;32m~/.local/lib/python3.10/site-packages/seaborn/axisgrid.py:848\u001B[0m, in \u001B[0;36mFacetGrid._facet_plot\u001B[0;34m(self, func, ax, plot_args, plot_kwargs)\u001B[0m\n\u001B[1;32m    846\u001B[0m     plot_args \u001B[38;5;241m=\u001B[39m []\n\u001B[1;32m    847\u001B[0m     plot_kwargs[\u001B[38;5;124m\"\u001B[39m\u001B[38;5;124max\u001B[39m\u001B[38;5;124m\"\u001B[39m] \u001B[38;5;241m=\u001B[39m ax\n\u001B[0;32m--> 848\u001B[0m \u001B[43mfunc\u001B[49m\u001B[43m(\u001B[49m\u001B[38;5;241;43m*\u001B[39;49m\u001B[43mplot_args\u001B[49m\u001B[43m,\u001B[49m\u001B[43m \u001B[49m\u001B[38;5;241;43m*\u001B[39;49m\u001B[38;5;241;43m*\u001B[39;49m\u001B[43mplot_kwargs\u001B[49m\u001B[43m)\u001B[49m\n\u001B[1;32m    850\u001B[0m \u001B[38;5;66;03m# Sort out the supporting information\u001B[39;00m\n\u001B[1;32m    851\u001B[0m \u001B[38;5;28mself\u001B[39m\u001B[38;5;241m.\u001B[39m_update_legend_data(ax)\n",
      "File \u001B[0;32m~/.local/lib/python3.10/site-packages/seaborn/regression.py:759\u001B[0m, in \u001B[0;36mregplot\u001B[0;34m(data, x, y, x_estimator, x_bins, x_ci, scatter, fit_reg, ci, n_boot, units, seed, order, logistic, lowess, robust, logx, x_partial, y_partial, truncate, dropna, x_jitter, y_jitter, label, color, marker, scatter_kws, line_kws, ax)\u001B[0m\n\u001B[1;32m    757\u001B[0m scatter_kws[\u001B[38;5;124m\"\u001B[39m\u001B[38;5;124mmarker\u001B[39m\u001B[38;5;124m\"\u001B[39m] \u001B[38;5;241m=\u001B[39m marker\n\u001B[1;32m    758\u001B[0m line_kws \u001B[38;5;241m=\u001B[39m {} \u001B[38;5;28;01mif\u001B[39;00m line_kws \u001B[38;5;129;01mis\u001B[39;00m \u001B[38;5;28;01mNone\u001B[39;00m \u001B[38;5;28;01melse\u001B[39;00m copy\u001B[38;5;241m.\u001B[39mcopy(line_kws)\n\u001B[0;32m--> 759\u001B[0m \u001B[43mplotter\u001B[49m\u001B[38;5;241;43m.\u001B[39;49m\u001B[43mplot\u001B[49m\u001B[43m(\u001B[49m\u001B[43max\u001B[49m\u001B[43m,\u001B[49m\u001B[43m \u001B[49m\u001B[43mscatter_kws\u001B[49m\u001B[43m,\u001B[49m\u001B[43m \u001B[49m\u001B[43mline_kws\u001B[49m\u001B[43m)\u001B[49m\n\u001B[1;32m    760\u001B[0m \u001B[38;5;28;01mreturn\u001B[39;00m ax\n",
      "File \u001B[0;32m~/.local/lib/python3.10/site-packages/seaborn/regression.py:368\u001B[0m, in \u001B[0;36m_RegressionPlotter.plot\u001B[0;34m(self, ax, scatter_kws, line_kws)\u001B[0m\n\u001B[1;32m    365\u001B[0m     \u001B[38;5;28mself\u001B[39m\u001B[38;5;241m.\u001B[39mscatterplot(ax, scatter_kws)\n\u001B[1;32m    367\u001B[0m \u001B[38;5;28;01mif\u001B[39;00m \u001B[38;5;28mself\u001B[39m\u001B[38;5;241m.\u001B[39mfit_reg:\n\u001B[0;32m--> 368\u001B[0m     \u001B[38;5;28;43mself\u001B[39;49m\u001B[38;5;241;43m.\u001B[39;49m\u001B[43mlineplot\u001B[49m\u001B[43m(\u001B[49m\u001B[43max\u001B[49m\u001B[43m,\u001B[49m\u001B[43m \u001B[49m\u001B[43mline_kws\u001B[49m\u001B[43m)\u001B[49m\n\u001B[1;32m    370\u001B[0m \u001B[38;5;66;03m# Label the axes\u001B[39;00m\n\u001B[1;32m    371\u001B[0m \u001B[38;5;28;01mif\u001B[39;00m \u001B[38;5;28mhasattr\u001B[39m(\u001B[38;5;28mself\u001B[39m\u001B[38;5;241m.\u001B[39mx, \u001B[38;5;124m\"\u001B[39m\u001B[38;5;124mname\u001B[39m\u001B[38;5;124m\"\u001B[39m):\n",
      "File \u001B[0;32m~/.local/lib/python3.10/site-packages/seaborn/regression.py:426\u001B[0m, in \u001B[0;36m_RegressionPlotter.lineplot\u001B[0;34m(self, ax, kws)\u001B[0m\n\u001B[1;32m    424\u001B[0m     line\u001B[38;5;241m.\u001B[39msticky_edges\u001B[38;5;241m.\u001B[39mx[:] \u001B[38;5;241m=\u001B[39m edges  \u001B[38;5;66;03m# Prevent mpl from adding margin\u001B[39;00m\n\u001B[1;32m    425\u001B[0m \u001B[38;5;28;01mif\u001B[39;00m err_bands \u001B[38;5;129;01mis\u001B[39;00m \u001B[38;5;129;01mnot\u001B[39;00m \u001B[38;5;28;01mNone\u001B[39;00m:\n\u001B[0;32m--> 426\u001B[0m     \u001B[43max\u001B[49m\u001B[38;5;241;43m.\u001B[39;49m\u001B[43mfill_between\u001B[49m\u001B[43m(\u001B[49m\u001B[43mgrid\u001B[49m\u001B[43m,\u001B[49m\u001B[43m \u001B[49m\u001B[38;5;241;43m*\u001B[39;49m\u001B[43merr_bands\u001B[49m\u001B[43m,\u001B[49m\u001B[43m \u001B[49m\u001B[43mfacecolor\u001B[49m\u001B[38;5;241;43m=\u001B[39;49m\u001B[43mfill_color\u001B[49m\u001B[43m,\u001B[49m\u001B[43m \u001B[49m\u001B[43malpha\u001B[49m\u001B[38;5;241;43m=\u001B[39;49m\u001B[38;5;241;43m.15\u001B[39;49m\u001B[43m)\u001B[49m\n",
      "File \u001B[0;32m~/.local/lib/python3.10/site-packages/matplotlib/__init__.py:1423\u001B[0m, in \u001B[0;36m_preprocess_data.<locals>.inner\u001B[0;34m(ax, data, *args, **kwargs)\u001B[0m\n\u001B[1;32m   1420\u001B[0m \u001B[38;5;129m@functools\u001B[39m\u001B[38;5;241m.\u001B[39mwraps(func)\n\u001B[1;32m   1421\u001B[0m \u001B[38;5;28;01mdef\u001B[39;00m \u001B[38;5;21minner\u001B[39m(ax, \u001B[38;5;241m*\u001B[39margs, data\u001B[38;5;241m=\u001B[39m\u001B[38;5;28;01mNone\u001B[39;00m, \u001B[38;5;241m*\u001B[39m\u001B[38;5;241m*\u001B[39mkwargs):\n\u001B[1;32m   1422\u001B[0m     \u001B[38;5;28;01mif\u001B[39;00m data \u001B[38;5;129;01mis\u001B[39;00m \u001B[38;5;28;01mNone\u001B[39;00m:\n\u001B[0;32m-> 1423\u001B[0m         \u001B[38;5;28;01mreturn\u001B[39;00m \u001B[43mfunc\u001B[49m\u001B[43m(\u001B[49m\u001B[43max\u001B[49m\u001B[43m,\u001B[49m\u001B[43m \u001B[49m\u001B[38;5;241;43m*\u001B[39;49m\u001B[38;5;28;43mmap\u001B[39;49m\u001B[43m(\u001B[49m\u001B[43msanitize_sequence\u001B[49m\u001B[43m,\u001B[49m\u001B[43m \u001B[49m\u001B[43margs\u001B[49m\u001B[43m)\u001B[49m\u001B[43m,\u001B[49m\u001B[43m \u001B[49m\u001B[38;5;241;43m*\u001B[39;49m\u001B[38;5;241;43m*\u001B[39;49m\u001B[43mkwargs\u001B[49m\u001B[43m)\u001B[49m\n\u001B[1;32m   1425\u001B[0m     bound \u001B[38;5;241m=\u001B[39m new_sig\u001B[38;5;241m.\u001B[39mbind(ax, \u001B[38;5;241m*\u001B[39margs, \u001B[38;5;241m*\u001B[39m\u001B[38;5;241m*\u001B[39mkwargs)\n\u001B[1;32m   1426\u001B[0m     auto_label \u001B[38;5;241m=\u001B[39m (bound\u001B[38;5;241m.\u001B[39marguments\u001B[38;5;241m.\u001B[39mget(label_namer)\n\u001B[1;32m   1427\u001B[0m                   \u001B[38;5;129;01mor\u001B[39;00m bound\u001B[38;5;241m.\u001B[39mkwargs\u001B[38;5;241m.\u001B[39mget(label_namer))\n",
      "File \u001B[0;32m~/.local/lib/python3.10/site-packages/matplotlib/axes/_axes.py:5337\u001B[0m, in \u001B[0;36mfill_between\u001B[0;34m(self, x, y1, y2, where, interpolate, step, **kwargs)\u001B[0m\n\u001B[1;32m   5333\u001B[0m     end \u001B[38;5;241m=\u001B[39m get_interp_point(idx1)\n\u001B[1;32m   5334\u001B[0m \u001B[38;5;28;01melse\u001B[39;00m:\n\u001B[1;32m   5335\u001B[0m     \u001B[38;5;66;03m# Handle scalar dep2 (e.g. 0): the fill should go all\u001B[39;00m\n\u001B[1;32m   5336\u001B[0m     \u001B[38;5;66;03m# the way down to 0 even if none of the dep1 sample points do.\u001B[39;00m\n\u001B[0;32m-> 5337\u001B[0m     start \u001B[38;5;241m=\u001B[39m indslice[\u001B[38;5;241m0\u001B[39m], dep2slice[\u001B[38;5;241m0\u001B[39m]\n\u001B[1;32m   5338\u001B[0m     end \u001B[38;5;241m=\u001B[39m indslice[\u001B[38;5;241m-\u001B[39m\u001B[38;5;241m1\u001B[39m], dep2slice[\u001B[38;5;241m-\u001B[39m\u001B[38;5;241m1\u001B[39m]\n\u001B[1;32m   5340\u001B[0m pts[\u001B[38;5;241m0\u001B[39m] \u001B[38;5;241m=\u001B[39m start\n",
      "File \u001B[0;32m~/.local/lib/python3.10/site-packages/matplotlib/axes/_axes.py:5242\u001B[0m, in \u001B[0;36m_fill_between_x_or_y\u001B[0;34m(self, ind_dir, ind, dep1, dep2, where, interpolate, step, **kwargs)\u001B[0m\n\u001B[1;32m   5174\u001B[0m \u001B[38;5;28;01mdef\u001B[39;00m \u001B[38;5;21m_fill_between_x_or_y\u001B[39m(\n\u001B[1;32m   5175\u001B[0m         \u001B[38;5;28mself\u001B[39m, ind_dir, ind, dep1, dep2\u001B[38;5;241m=\u001B[39m\u001B[38;5;241m0\u001B[39m, \u001B[38;5;241m*\u001B[39m,\n\u001B[1;32m   5176\u001B[0m         where\u001B[38;5;241m=\u001B[39m\u001B[38;5;28;01mNone\u001B[39;00m, interpolate\u001B[38;5;241m=\u001B[39m\u001B[38;5;28;01mFalse\u001B[39;00m, step\u001B[38;5;241m=\u001B[39m\u001B[38;5;28;01mNone\u001B[39;00m, \u001B[38;5;241m*\u001B[39m\u001B[38;5;241m*\u001B[39mkwargs):\n\u001B[0;32m   (...)\u001B[0m\n\u001B[1;32m   5179\u001B[0m     \u001B[38;5;66;03m# *dep* the dependent variable.  The docstring below is interpolated\u001B[39;00m\n\u001B[1;32m   5180\u001B[0m     \u001B[38;5;66;03m# to generate both methods' docstrings.\u001B[39;00m\n\u001B[1;32m   5181\u001B[0m     \u001B[38;5;124;03m\"\"\"\u001B[39;00m\n\u001B[1;32m   5182\u001B[0m \u001B[38;5;124;03m    Fill the area between two {dir} curves.\u001B[39;00m\n\u001B[1;32m   5183\u001B[0m \n\u001B[1;32m   5184\u001B[0m \u001B[38;5;124;03m    The curves are defined by the points (*{ind}*, *{dep}1*) and (*{ind}*,\u001B[39;00m\n\u001B[1;32m   5185\u001B[0m \u001B[38;5;124;03m    *{dep}2*).  This creates one or multiple polygons describing the filled\u001B[39;00m\n\u001B[1;32m   5186\u001B[0m \u001B[38;5;124;03m    area.\u001B[39;00m\n\u001B[1;32m   5187\u001B[0m \n\u001B[1;32m   5188\u001B[0m \u001B[38;5;124;03m    You may exclude some {dir} sections from filling using *where*.\u001B[39;00m\n\u001B[1;32m   5189\u001B[0m \n\u001B[1;32m   5190\u001B[0m \u001B[38;5;124;03m    By default, the edges connect the given points directly.  Use *step*\u001B[39;00m\n\u001B[1;32m   5191\u001B[0m \u001B[38;5;124;03m    if the filling should be a step function, i.e. constant in between\u001B[39;00m\n\u001B[1;32m   5192\u001B[0m \u001B[38;5;124;03m    *{ind}*.\u001B[39;00m\n\u001B[1;32m   5193\u001B[0m \n\u001B[1;32m   5194\u001B[0m \u001B[38;5;124;03m    Parameters\u001B[39;00m\n\u001B[1;32m   5195\u001B[0m \u001B[38;5;124;03m    ----------\u001B[39;00m\n\u001B[1;32m   5196\u001B[0m \u001B[38;5;124;03m    {ind} : array (length N)\u001B[39;00m\n\u001B[1;32m   5197\u001B[0m \u001B[38;5;124;03m        The {ind} coordinates of the nodes defining the curves.\u001B[39;00m\n\u001B[1;32m   5198\u001B[0m \n\u001B[1;32m   5199\u001B[0m \u001B[38;5;124;03m    {dep}1 : array (length N) or scalar\u001B[39;00m\n\u001B[1;32m   5200\u001B[0m \u001B[38;5;124;03m        The {dep} coordinates of the nodes defining the first curve.\u001B[39;00m\n\u001B[1;32m   5201\u001B[0m \n\u001B[1;32m   5202\u001B[0m \u001B[38;5;124;03m    {dep}2 : array (length N) or scalar, default: 0\u001B[39;00m\n\u001B[1;32m   5203\u001B[0m \u001B[38;5;124;03m        The {dep} coordinates of the nodes defining the second curve.\u001B[39;00m\n\u001B[1;32m   5204\u001B[0m \n\u001B[1;32m   5205\u001B[0m \u001B[38;5;124;03m    where : array of bool (length N), optional\u001B[39;00m\n\u001B[1;32m   5206\u001B[0m \u001B[38;5;124;03m        Define *where* to exclude some {dir} regions from being filled.\u001B[39;00m\n\u001B[1;32m   5207\u001B[0m \u001B[38;5;124;03m        The filled regions are defined by the coordinates ``{ind}[where]``.\u001B[39;00m\n\u001B[1;32m   5208\u001B[0m \u001B[38;5;124;03m        More precisely, fill between ``{ind}[i]`` and ``{ind}[i+1]`` if\u001B[39;00m\n\u001B[1;32m   5209\u001B[0m \u001B[38;5;124;03m        ``where[i] and where[i+1]``.  Note that this definition implies\u001B[39;00m\n\u001B[1;32m   5210\u001B[0m \u001B[38;5;124;03m        that an isolated *True* value between two *False* values in *where*\u001B[39;00m\n\u001B[1;32m   5211\u001B[0m \u001B[38;5;124;03m        will not result in filling.  Both sides of the *True* position\u001B[39;00m\n\u001B[1;32m   5212\u001B[0m \u001B[38;5;124;03m        remain unfilled due to the adjacent *False* values.\u001B[39;00m\n\u001B[1;32m   5213\u001B[0m \n\u001B[1;32m   5214\u001B[0m \u001B[38;5;124;03m    interpolate : bool, default: False\u001B[39;00m\n\u001B[1;32m   5215\u001B[0m \u001B[38;5;124;03m        This option is only relevant if *where* is used and the two curves\u001B[39;00m\n\u001B[1;32m   5216\u001B[0m \u001B[38;5;124;03m        are crossing each other.\u001B[39;00m\n\u001B[1;32m   5217\u001B[0m \n\u001B[1;32m   5218\u001B[0m \u001B[38;5;124;03m        Semantically, *where* is often used for *{dep}1* > *{dep}2* or\u001B[39;00m\n\u001B[1;32m   5219\u001B[0m \u001B[38;5;124;03m        similar.  By default, the nodes of the polygon defining the filled\u001B[39;00m\n\u001B[1;32m   5220\u001B[0m \u001B[38;5;124;03m        region will only be placed at the positions in the *{ind}* array.\u001B[39;00m\n\u001B[1;32m   5221\u001B[0m \u001B[38;5;124;03m        Such a polygon cannot describe the above semantics close to the\u001B[39;00m\n\u001B[1;32m   5222\u001B[0m \u001B[38;5;124;03m        intersection.  The {ind}-sections containing the intersection are\u001B[39;00m\n\u001B[1;32m   5223\u001B[0m \u001B[38;5;124;03m        simply clipped.\u001B[39;00m\n\u001B[1;32m   5224\u001B[0m \n\u001B[1;32m   5225\u001B[0m \u001B[38;5;124;03m        Setting *interpolate* to *True* will calculate the actual\u001B[39;00m\n\u001B[1;32m   5226\u001B[0m \u001B[38;5;124;03m        intersection point and extend the filled region up to this point.\u001B[39;00m\n\u001B[1;32m   5227\u001B[0m \n\u001B[1;32m   5228\u001B[0m \u001B[38;5;124;03m    step : {{'pre', 'post', 'mid'}}, optional\u001B[39;00m\n\u001B[1;32m   5229\u001B[0m \u001B[38;5;124;03m        Define *step* if the filling should be a step function,\u001B[39;00m\n\u001B[1;32m   5230\u001B[0m \u001B[38;5;124;03m        i.e. constant in between *{ind}*.  The value determines where the\u001B[39;00m\n\u001B[1;32m   5231\u001B[0m \u001B[38;5;124;03m        step will occur:\u001B[39;00m\n\u001B[1;32m   5232\u001B[0m \n\u001B[1;32m   5233\u001B[0m \u001B[38;5;124;03m        - 'pre': The y value is continued constantly to the left from\u001B[39;00m\n\u001B[1;32m   5234\u001B[0m \u001B[38;5;124;03m          every *x* position, i.e. the interval ``(x[i-1], x[i]]`` has the\u001B[39;00m\n\u001B[1;32m   5235\u001B[0m \u001B[38;5;124;03m          value ``y[i]``.\u001B[39;00m\n\u001B[1;32m   5236\u001B[0m \u001B[38;5;124;03m        - 'post': The y value is continued constantly to the right from\u001B[39;00m\n\u001B[1;32m   5237\u001B[0m \u001B[38;5;124;03m          every *x* position, i.e. the interval ``[x[i], x[i+1])`` has the\u001B[39;00m\n\u001B[1;32m   5238\u001B[0m \u001B[38;5;124;03m          value ``y[i]``.\u001B[39;00m\n\u001B[1;32m   5239\u001B[0m \u001B[38;5;124;03m        - 'mid': Steps occur half-way between the *x* positions.\u001B[39;00m\n\u001B[1;32m   5240\u001B[0m \n\u001B[1;32m   5241\u001B[0m \u001B[38;5;124;03m    Returns\u001B[39;00m\n\u001B[0;32m-> 5242\u001B[0m \u001B[38;5;124;03m    -------\u001B[39;00m\n\u001B[1;32m   5243\u001B[0m \u001B[38;5;124;03m    `.PolyCollection`\u001B[39;00m\n\u001B[1;32m   5244\u001B[0m \u001B[38;5;124;03m        A `.PolyCollection` containing the plotted polygons.\u001B[39;00m\n\u001B[1;32m   5245\u001B[0m \n\u001B[1;32m   5246\u001B[0m \u001B[38;5;124;03m    Other Parameters\u001B[39;00m\n\u001B[1;32m   5247\u001B[0m \u001B[38;5;124;03m    ----------------\u001B[39;00m\n\u001B[1;32m   5248\u001B[0m \u001B[38;5;124;03m    data : indexable object, optional\u001B[39;00m\n\u001B[1;32m   5249\u001B[0m \u001B[38;5;124;03m        DATA_PARAMETER_PLACEHOLDER\u001B[39;00m\n\u001B[1;32m   5250\u001B[0m \n\u001B[1;32m   5251\u001B[0m \u001B[38;5;124;03m    **kwargs\u001B[39;00m\n\u001B[1;32m   5252\u001B[0m \u001B[38;5;124;03m        All other keyword arguments are passed on to `.PolyCollection`.\u001B[39;00m\n\u001B[1;32m   5253\u001B[0m \u001B[38;5;124;03m        They control the `.Polygon` properties:\u001B[39;00m\n\u001B[1;32m   5254\u001B[0m \n\u001B[1;32m   5255\u001B[0m \u001B[38;5;124;03m        %(PolyCollection:kwdoc)s\u001B[39;00m\n\u001B[1;32m   5256\u001B[0m \n\u001B[1;32m   5257\u001B[0m \u001B[38;5;124;03m    See Also\u001B[39;00m\n\u001B[1;32m   5258\u001B[0m \u001B[38;5;124;03m    --------\u001B[39;00m\n\u001B[1;32m   5259\u001B[0m \u001B[38;5;124;03m    fill_between : Fill between two sets of y-values.\u001B[39;00m\n\u001B[1;32m   5260\u001B[0m \u001B[38;5;124;03m    fill_betweenx : Fill between two sets of x-values.\u001B[39;00m\n\u001B[1;32m   5261\u001B[0m \u001B[38;5;124;03m    \"\"\"\u001B[39;00m\n\u001B[1;32m   5263\u001B[0m     dep_dir \u001B[38;5;241m=\u001B[39m {\u001B[38;5;124m\"\u001B[39m\u001B[38;5;124mx\u001B[39m\u001B[38;5;124m\"\u001B[39m: \u001B[38;5;124m\"\u001B[39m\u001B[38;5;124my\u001B[39m\u001B[38;5;124m\"\u001B[39m, \u001B[38;5;124m\"\u001B[39m\u001B[38;5;124my\u001B[39m\u001B[38;5;124m\"\u001B[39m: \u001B[38;5;124m\"\u001B[39m\u001B[38;5;124mx\u001B[39m\u001B[38;5;124m\"\u001B[39m}[ind_dir]\n\u001B[1;32m   5265\u001B[0m     \u001B[38;5;28;01mif\u001B[39;00m \u001B[38;5;129;01mnot\u001B[39;00m mpl\u001B[38;5;241m.\u001B[39mrcParams[\u001B[38;5;124m\"\u001B[39m\u001B[38;5;124m_internal.classic_mode\u001B[39m\u001B[38;5;124m\"\u001B[39m]:\n",
      "File \u001B[0;32m~/.local/lib/python3.10/site-packages/numpy/ma/core.py:2366\u001B[0m, in \u001B[0;36mmasked_invalid\u001B[0;34m(a, copy)\u001B[0m\n\u001B[1;32m   2364\u001B[0m     \u001B[38;5;28mcls\u001B[39m \u001B[38;5;241m=\u001B[39m \u001B[38;5;28mtype\u001B[39m(a)\n\u001B[1;32m   2365\u001B[0m \u001B[38;5;28;01melse\u001B[39;00m:\n\u001B[0;32m-> 2366\u001B[0m     condition \u001B[38;5;241m=\u001B[39m \u001B[38;5;241m~\u001B[39m(\u001B[43mnp\u001B[49m\u001B[38;5;241;43m.\u001B[39;49m\u001B[43misfinite\u001B[49m\u001B[43m(\u001B[49m\u001B[43ma\u001B[49m\u001B[43m)\u001B[49m)\n\u001B[1;32m   2367\u001B[0m     \u001B[38;5;28mcls\u001B[39m \u001B[38;5;241m=\u001B[39m MaskedArray\n\u001B[1;32m   2368\u001B[0m result \u001B[38;5;241m=\u001B[39m a\u001B[38;5;241m.\u001B[39mview(\u001B[38;5;28mcls\u001B[39m)\n",
      "\u001B[0;31mTypeError\u001B[0m: ufunc 'isfinite' not supported for the input types, and the inputs could not be safely coerced to any supported types according to the casting rule ''safe''"
     ]
    },
    {
     "data": {
      "text/plain": "<Figure size 500x500 with 1 Axes>",
      "image/png": "[encoded data removed]"
     },
     "metadata": {},
     "output_type": "display_data"
    }
   ],
   "source": [
    "sns.lmplot(data=df, x='Fertility Rate', y='Population')"
   ],
   "metadata": {
    "collapsed": false
   }
  },
  {
   "cell_type": "code",
   "execution_count": 160,
   "outputs": [
    {
     "ename": "TypeError",
     "evalue": "folium.utilities.parse_options() got multiple values for keyword argument 'zoom'",
     "output_type": "error",
     "traceback": [
      "\u001B[0;31m---------------------------------------------------------------------------\u001B[0m",
      "\u001B[0;31mTypeError\u001B[0m                                 Traceback (most recent call last)",
      "Cell \u001B[0;32mIn [160], line 1\u001B[0m\n\u001B[0;32m----> 1\u001B[0m m \u001B[38;5;241m=\u001B[39m \u001B[43mleafmap\u001B[49m\u001B[38;5;241;43m.\u001B[39;49m\u001B[43mfolium\u001B[49m\u001B[38;5;241;43m.\u001B[39;49m\u001B[43mMap\u001B[49m\u001B[43m(\u001B[49m\u001B[43mlocation\u001B[49m\u001B[38;5;241;43m=\u001B[39;49m\u001B[43m[\u001B[49m\u001B[38;5;241;43m40\u001B[39;49m\u001B[43m,\u001B[49m\u001B[43m \u001B[49m\u001B[38;5;241;43m-\u001B[39;49m\u001B[38;5;241;43m100\u001B[39;49m\u001B[43m]\u001B[49m\u001B[43m,\u001B[49m\u001B[43m \u001B[49m\u001B[43mzoom\u001B[49m\u001B[38;5;241;43m=\u001B[39;49m\u001B[38;5;241;43m4\u001B[39;49m\u001B[43m)\u001B[49m\n\u001B[1;32m      2\u001B[0m m\n",
      "File \u001B[0;32m~/.local/lib/python3.10/site-packages/folium/folium.py:270\u001B[0m, in \u001B[0;36mMap.__init__\u001B[0;34m(self, location, width, height, left, top, position, tiles, attr, min_zoom, max_zoom, zoom_start, min_lat, max_lat, min_lon, max_lon, max_bounds, crs, control_scale, prefer_canvas, no_touch, disable_3d, png_enabled, zoom_control, **kwargs)\u001B[0m\n\u001B[1;32m    267\u001B[0m \u001B[38;5;28mself\u001B[39m\u001B[38;5;241m.\u001B[39mcrs \u001B[38;5;241m=\u001B[39m crs\n\u001B[1;32m    268\u001B[0m \u001B[38;5;28mself\u001B[39m\u001B[38;5;241m.\u001B[39mcontrol_scale \u001B[38;5;241m=\u001B[39m control_scale\n\u001B[0;32m--> 270\u001B[0m \u001B[38;5;28mself\u001B[39m\u001B[38;5;241m.\u001B[39moptions \u001B[38;5;241m=\u001B[39m parse_options(\n\u001B[1;32m    271\u001B[0m     max_bounds\u001B[38;5;241m=\u001B[39mmax_bounds_array,\n\u001B[1;32m    272\u001B[0m     zoom\u001B[38;5;241m=\u001B[39mzoom_start,\n\u001B[1;32m    273\u001B[0m     zoom_control\u001B[38;5;241m=\u001B[39mzoom_control,\n\u001B[1;32m    274\u001B[0m     prefer_canvas\u001B[38;5;241m=\u001B[39mprefer_canvas,\n\u001B[1;32m    275\u001B[0m     \u001B[38;5;241m*\u001B[39m\u001B[38;5;241m*\u001B[39mkwargs\n\u001B[1;32m    276\u001B[0m )\n\u001B[1;32m    278\u001B[0m \u001B[38;5;28mself\u001B[39m\u001B[38;5;241m.\u001B[39mglobal_switches \u001B[38;5;241m=\u001B[39m GlobalSwitches(\n\u001B[1;32m    279\u001B[0m     no_touch,\n\u001B[1;32m    280\u001B[0m     disable_3d\n\u001B[1;32m    281\u001B[0m )\n\u001B[1;32m    283\u001B[0m \u001B[38;5;28mself\u001B[39m\u001B[38;5;241m.\u001B[39mobjects_to_stay_in_front \u001B[38;5;241m=\u001B[39m []\n",
      "\u001B[0;31mTypeError\u001B[0m: folium.utilities.parse_options() got multiple values for keyword argument 'zoom'"
     ]
    }
   ],
   "source": [
    "m = leafmap.folium.Map(location=[40, -100], zoom=4)\n",
    "m"
   ],
   "metadata": {
    "collapsed": false
   }
  },
  {
   "cell_type": "code",
   "execution_count": null,
   "outputs": [],
   "source": [],
   "metadata": {
    "collapsed": false
   }
  }
 ],
 "metadata": {
  "kernelspec": {
   "display_name": "Python 3 (ipykernel)",
   "language": "python",
   "name": "python3"
  },
  "language_info": {
   "codemirror_mode": {
    "name": "ipython",
    "version": 3
   },
   "file_extension": ".py",
   "mimetype": "text/x-python",
   "name": "python",
   "nbconvert_exporter": "python",
   "pygments_lexer": "ipython3",
   "version": "3.10.0"
  }
 },
 "nbformat": 4,
 "nbformat_minor": 5
}
